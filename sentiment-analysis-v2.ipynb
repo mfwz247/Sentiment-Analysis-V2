{
 "cells": [
  {
   "cell_type": "code",
   "execution_count": 1,
   "id": "26996b9f",
   "metadata": {
    "_cell_guid": "b1076dfc-b9ad-4769-8c92-a6c4dae69d19",
    "_uuid": "8f2839f25d086af736a60e9eeb907d3b93b6e0e5",
    "execution": {
     "iopub.execute_input": "2022-03-18T20:35:48.137811Z",
     "iopub.status.busy": "2022-03-18T20:35:48.136748Z",
     "iopub.status.idle": "2022-03-18T20:36:03.537482Z",
     "shell.execute_reply": "2022-03-18T20:36:03.536511Z",
     "shell.execute_reply.started": "2022-03-18T20:13:01.903016Z"
    },
    "papermill": {
     "duration": 15.483035,
     "end_time": "2022-03-18T20:36:03.537668",
     "exception": false,
     "start_time": "2022-03-18T20:35:48.054633",
     "status": "completed"
    },
    "tags": []
   },
   "outputs": [
    {
     "name": "stdout",
     "output_type": "stream",
     "text": [
      "Collecting gensim==3.8.3\r\n",
      "  Downloading gensim-3.8.3-cp37-cp37m-manylinux1_x86_64.whl (24.2 MB)\r\n",
      "     |████████████████████████████████| 24.2 MB 424 kB/s            \r\n",
      "\u001b[?25hRequirement already satisfied: six>=1.5.0 in /opt/conda/lib/python3.7/site-packages (from gensim==3.8.3) (1.16.0)\r\n",
      "Requirement already satisfied: scipy>=0.18.1 in /opt/conda/lib/python3.7/site-packages (from gensim==3.8.3) (1.7.3)\r\n",
      "Requirement already satisfied: smart-open>=1.8.1 in /opt/conda/lib/python3.7/site-packages (from gensim==3.8.3) (5.2.1)\r\n",
      "Requirement already satisfied: numpy>=1.11.3 in /opt/conda/lib/python3.7/site-packages (from gensim==3.8.3) (1.20.3)\r\n",
      "Installing collected packages: gensim\r\n",
      "  Attempting uninstall: gensim\r\n",
      "    Found existing installation: gensim 4.0.1\r\n",
      "    Uninstalling gensim-4.0.1:\r\n",
      "      Successfully uninstalled gensim-4.0.1\r\n",
      "\u001b[31mERROR: pip's dependency resolver does not currently take into account all the packages that are installed. This behaviour is the source of the following dependency conflicts.\r\n",
      "scattertext 0.1.5 requires gensim>=4.0.0, but you have gensim 3.8.3 which is incompatible.\u001b[0m\r\n",
      "Successfully installed gensim-3.8.3\r\n",
      "\u001b[33mWARNING: Running pip as the 'root' user can result in broken permissions and conflicting behaviour with the system package manager. It is recommended to use a virtual environment instead: https://pip.pypa.io/warnings/venv\u001b[0m\r\n"
     ]
    }
   ],
   "source": [
    "!pip install gensim==3.8.3"
   ]
  },
  {
   "cell_type": "markdown",
   "id": "1a061281",
   "metadata": {
    "papermill": {
     "duration": 0.087076,
     "end_time": "2022-03-18T20:36:03.718875",
     "exception": false,
     "start_time": "2022-03-18T20:36:03.631799",
     "status": "completed"
    },
    "tags": []
   },
   "source": [
    "# This is Mohamed Fawzy solving challenge 2\n",
    "**Let us go through details**."
   ]
  },
  {
   "cell_type": "code",
   "execution_count": 2,
   "id": "8f3e48cd",
   "metadata": {
    "execution": {
     "iopub.execute_input": "2022-03-18T20:36:03.904909Z",
     "iopub.status.busy": "2022-03-18T20:36:03.903746Z",
     "iopub.status.idle": "2022-03-18T20:36:12.121581Z",
     "shell.execute_reply": "2022-03-18T20:36:12.122562Z",
     "shell.execute_reply.started": "2022-03-18T20:13:13.782523Z"
    },
    "papermill": {
     "duration": 8.317657,
     "end_time": "2022-03-18T20:36:12.122766",
     "exception": false,
     "start_time": "2022-03-18T20:36:03.805109",
     "status": "completed"
    },
    "tags": []
   },
   "outputs": [
    {
     "name": "stdout",
     "output_type": "stream",
     "text": [
      "[nltk_data] Downloading package stopwords to /usr/share/nltk_data...\n",
      "[nltk_data]   Package stopwords is already up-to-date!\n"
     ]
    }
   ],
   "source": [
    "\n",
    "import tensorflow as tf\n",
    "import matplotlib.pyplot as plt\n",
    "import seaborn as sns\n",
    "import pandas as pd\n",
    "import numpy as np\n",
    "\n",
    "import nltk \n",
    "nltk.download('stopwords')\n",
    "from nltk.corpus import stopwords\n",
    "from nltk.stem import SnowballStemmer\n",
    "import gensim\n",
    "from keras.preprocessing.text import Tokenizer\n",
    "from keras.preprocessing.sequence import pad_sequences\n",
    "from keras.models import Sequential\n",
    "from tensorflow.keras.layers import Conv1D, Bidirectional, LSTM, Dense, Input, Dropout , Embedding\n",
    "from tensorflow.keras.layers import SpatialDropout1D\n",
    "from tensorflow.keras.callbacks import ModelCheckpoint\n",
    "from keras import utils\n",
    "from keras.callbacks import ReduceLROnPlateau, EarlyStopping\n",
    "from sklearn.metrics import classification_report, accuracy_score\n",
    "\n",
    "from sklearn.model_selection import train_test_split\n",
    "from sklearn.preprocessing import LabelEncoder\n",
    "import re"
   ]
  },
  {
   "cell_type": "markdown",
   "id": "14515b91",
   "metadata": {
    "papermill": {
     "duration": 0.086743,
     "end_time": "2022-03-18T20:36:12.297457",
     "exception": false,
     "start_time": "2022-03-18T20:36:12.210714",
     "status": "completed"
    },
    "tags": []
   },
   "source": [
    "After importing all necessary libs I read data that I collected from \n",
    "1 - http://saifmohammad.com/WebPages/TweetEmotionIntensity-dataviz.html\n",
    "2 - https://github.com/cardiffnlp/tweeteval\n",
    "\n",
    "Thanks to this paper \n",
    "\n",
    "3 - https://onlinelibrary.wiley.com/doi/full/10.1002/eng2.12189"
   ]
  },
  {
   "cell_type": "markdown",
   "id": "aa9cf2c8",
   "metadata": {
    "papermill": {
     "duration": 0.086708,
     "end_time": "2022-03-18T20:36:12.471418",
     "exception": false,
     "start_time": "2022-03-18T20:36:12.384710",
     "status": "completed"
    },
    "tags": []
   },
   "source": [
    "Let's read Tweetval data first which has two sectors : \n",
    "\n",
    "\n",
    "1- data for Emotions classes: Joy, Fear, Anger, Optimistic\n",
    "\n",
    "\n",
    "2- another dataset that has classes: Positive , Negative , Neutral"
   ]
  },
  {
   "cell_type": "code",
   "execution_count": 3,
   "id": "4bade88f",
   "metadata": {
    "execution": {
     "iopub.execute_input": "2022-03-18T20:36:12.657406Z",
     "iopub.status.busy": "2022-03-18T20:36:12.654418Z",
     "iopub.status.idle": "2022-03-18T20:36:12.767532Z",
     "shell.execute_reply": "2022-03-18T20:36:12.768095Z",
     "shell.execute_reply.started": "2022-03-18T20:13:20.995146Z"
    },
    "papermill": {
     "duration": 0.207719,
     "end_time": "2022-03-18T20:36:12.768278",
     "exception": false,
     "start_time": "2022-03-18T20:36:12.560559",
     "status": "completed"
    },
    "tags": []
   },
   "outputs": [
    {
     "data": {
      "text/html": [
       "<div>\n",
       "<style scoped>\n",
       "    .dataframe tbody tr th:only-of-type {\n",
       "        vertical-align: middle;\n",
       "    }\n",
       "\n",
       "    .dataframe tbody tr th {\n",
       "        vertical-align: top;\n",
       "    }\n",
       "\n",
       "    .dataframe thead th {\n",
       "        text-align: right;\n",
       "    }\n",
       "</style>\n",
       "<table border=\"1\" class=\"dataframe\">\n",
       "  <thead>\n",
       "    <tr style=\"text-align: right;\">\n",
       "      <th></th>\n",
       "      <th>0</th>\n",
       "    </tr>\n",
       "  </thead>\n",
       "  <tbody>\n",
       "    <tr>\n",
       "      <th>0</th>\n",
       "      <td>“Worry is a down payment on a problem you may ...</td>\n",
       "    </tr>\n",
       "    <tr>\n",
       "      <th>1</th>\n",
       "      <td>My roommate: it's okay that we can't spell bec...</td>\n",
       "    </tr>\n",
       "    <tr>\n",
       "      <th>2</th>\n",
       "      <td>No but that's so cute. Atsu was probably shy a...</td>\n",
       "    </tr>\n",
       "    <tr>\n",
       "      <th>3</th>\n",
       "      <td>Rooneys fucking untouchable isn't he? Been fuc...</td>\n",
       "    </tr>\n",
       "    <tr>\n",
       "      <th>4</th>\n",
       "      <td>it's pretty depressing when u hit pan on ur fa...</td>\n",
       "    </tr>\n",
       "    <tr>\n",
       "      <th>5</th>\n",
       "      <td>@user but your pussy was weak from what I hear...</td>\n",
       "    </tr>\n",
       "    <tr>\n",
       "      <th>6</th>\n",
       "      <td>Making that yearly transition from excited and...</td>\n",
       "    </tr>\n",
       "    <tr>\n",
       "      <th>7</th>\n",
       "      <td>Tiller and breezy should do a collab album. Ra...</td>\n",
       "    </tr>\n",
       "    <tr>\n",
       "      <th>8</th>\n",
       "      <td>@user broadband is shocking regretting signing...</td>\n",
       "    </tr>\n",
       "    <tr>\n",
       "      <th>9</th>\n",
       "      <td>@user Look at those teef! #growl</td>\n",
       "    </tr>\n",
       "    <tr>\n",
       "      <th>10</th>\n",
       "      <td>@user @user USA was embarrassing to watch. Whe...</td>\n",
       "    </tr>\n",
       "    <tr>\n",
       "      <th>11</th>\n",
       "      <td>#NewYork: Several #Baloch &amp;amp; Indian activis...</td>\n",
       "    </tr>\n",
       "    <tr>\n",
       "      <th>12</th>\n",
       "      <td>Your glee filled Normy dry humping of the most...</td>\n",
       "    </tr>\n",
       "    <tr>\n",
       "      <th>13</th>\n",
       "      <td>What a fucking muppet.  @user  #stalker.</td>\n",
       "    </tr>\n",
       "    <tr>\n",
       "      <th>14</th>\n",
       "      <td>Autocorrect changes ''em' to 'me' which I rese...</td>\n",
       "    </tr>\n",
       "    <tr>\n",
       "      <th>15</th>\n",
       "      <td>@user I would never strategically vote for som...</td>\n",
       "    </tr>\n",
       "    <tr>\n",
       "      <th>16</th>\n",
       "      <td>@user Haters!!! You are low in self worth. Sel...</td>\n",
       "    </tr>\n",
       "    <tr>\n",
       "      <th>17</th>\n",
       "      <td>I saved him after ordering him to risk his lif...</td>\n",
       "    </tr>\n",
       "    <tr>\n",
       "      <th>18</th>\n",
       "      <td>@user Uggh that's really horrible. You're not ...</td>\n",
       "    </tr>\n",
       "    <tr>\n",
       "      <th>19</th>\n",
       "      <td>@user @user @user Tamra would F her up if she ...</td>\n",
       "    </tr>\n",
       "    <tr>\n",
       "      <th>20</th>\n",
       "      <td>Love is when all your happiness and all your s...</td>\n",
       "    </tr>\n",
       "    <tr>\n",
       "      <th>21</th>\n",
       "      <td>It’s possible changing meds is best not done w...</td>\n",
       "    </tr>\n",
       "    <tr>\n",
       "      <th>22</th>\n",
       "      <td>im also definitely still bitter about the yell...</td>\n",
       "    </tr>\n",
       "    <tr>\n",
       "      <th>23</th>\n",
       "      <td>@user The irony is that those protesting about...</td>\n",
       "    </tr>\n",
       "    <tr>\n",
       "      <th>24</th>\n",
       "      <td>@user @user nah way that's horrible</td>\n",
       "    </tr>\n",
       "    <tr>\n",
       "      <th>25</th>\n",
       "      <td>@user I think just becz u have so much terror ...</td>\n",
       "    </tr>\n",
       "    <tr>\n",
       "      <th>26</th>\n",
       "      <td>angel delight is my everything</td>\n",
       "    </tr>\n",
       "    <tr>\n",
       "      <th>27</th>\n",
       "      <td>Puzzle investing opening portland feodal popul...</td>\n",
       "    </tr>\n",
       "    <tr>\n",
       "      <th>28</th>\n",
       "      <td>I believe I'm gonna start singing in my snap s...</td>\n",
       "    </tr>\n",
       "    <tr>\n",
       "      <th>29</th>\n",
       "      <td>I have a rage rage ep 2 coming out soon I'll k...</td>\n",
       "    </tr>\n",
       "    <tr>\n",
       "      <th>30</th>\n",
       "      <td>Why have I only just started watching glee thi...</td>\n",
       "    </tr>\n",
       "    <tr>\n",
       "      <th>31</th>\n",
       "      <td>Jorge deserves it, honestly. He's weak.  #90da...</td>\n",
       "    </tr>\n",
       "    <tr>\n",
       "      <th>32</th>\n",
       "      <td>@user 'shit' doesn't even begin to describe th...</td>\n",
       "    </tr>\n",
       "    <tr>\n",
       "      <th>33</th>\n",
       "      <td>@user @user ditto!! Such an amazing atmosphere...</td>\n",
       "    </tr>\n",
       "    <tr>\n",
       "      <th>34</th>\n",
       "      <td>Interview preparation, I hate talking about my...</td>\n",
       "    </tr>\n",
       "    <tr>\n",
       "      <th>35</th>\n",
       "      <td>Manchester derby at home</td>\n",
       "    </tr>\n",
       "    <tr>\n",
       "      <th>36</th>\n",
       "      <td>It'd probably be useful to more than women, bu...</td>\n",
       "    </tr>\n",
       "    <tr>\n",
       "      <th>37</th>\n",
       "      <td>her; i want a playful relationship\\nme; *kicks...</td>\n",
       "    </tr>\n",
       "    <tr>\n",
       "      <th>38</th>\n",
       "      <td>Romero is fucking dreadful like seriously my 1...</td>\n",
       "    </tr>\n",
       "    <tr>\n",
       "      <th>39</th>\n",
       "      <td>@user It’s taken for granted, while the misogy...</td>\n",
       "    </tr>\n",
       "    <tr>\n",
       "      <th>40</th>\n",
       "      <td>@user oh I see. I've seen so many people mourn...</td>\n",
       "    </tr>\n",
       "    <tr>\n",
       "      <th>41</th>\n",
       "      <td>so gutted i dropped one of my earrings down th...</td>\n",
       "    </tr>\n",
       "    <tr>\n",
       "      <th>42</th>\n",
       "      <td>Happy birthday to Stephen King, a man responsi...</td>\n",
       "    </tr>\n",
       "    <tr>\n",
       "      <th>43</th>\n",
       "      <td>“ My courage always rises at every attempt to ...</td>\n",
       "    </tr>\n",
       "    <tr>\n",
       "      <th>44</th>\n",
       "      <td>It's a good day at work when you get to shake ...</td>\n",
       "    </tr>\n",
       "    <tr>\n",
       "      <th>45</th>\n",
       "      <td>I'm so bored and fat and full and ridiculously...</td>\n",
       "    </tr>\n",
       "    <tr>\n",
       "      <th>46</th>\n",
       "      <td>@user Flirt, simper, pout, repeat. Yuck.</td>\n",
       "    </tr>\n",
       "    <tr>\n",
       "      <th>47</th>\n",
       "      <td>Trumpism likewise rests on a bed of racial res...</td>\n",
       "    </tr>\n",
       "    <tr>\n",
       "      <th>48</th>\n",
       "      <td>There's this Bpharm4 guy Eish that guy brings ...</td>\n",
       "    </tr>\n",
       "    <tr>\n",
       "      <th>49</th>\n",
       "      <td>Tears and eyes can dry but I won't, I'm burnin...</td>\n",
       "    </tr>\n",
       "  </tbody>\n",
       "</table>\n",
       "</div>"
      ],
      "text/plain": [
       "                                                    0\n",
       "0   “Worry is a down payment on a problem you may ...\n",
       "1   My roommate: it's okay that we can't spell bec...\n",
       "2   No but that's so cute. Atsu was probably shy a...\n",
       "3   Rooneys fucking untouchable isn't he? Been fuc...\n",
       "4   it's pretty depressing when u hit pan on ur fa...\n",
       "5   @user but your pussy was weak from what I hear...\n",
       "6   Making that yearly transition from excited and...\n",
       "7   Tiller and breezy should do a collab album. Ra...\n",
       "8   @user broadband is shocking regretting signing...\n",
       "9                   @user Look at those teef! #growl \n",
       "10  @user @user USA was embarrassing to watch. Whe...\n",
       "11  #NewYork: Several #Baloch &amp; Indian activis...\n",
       "12  Your glee filled Normy dry humping of the most...\n",
       "13          What a fucking muppet.  @user  #stalker. \n",
       "14  Autocorrect changes ''em' to 'me' which I rese...\n",
       "15  @user I would never strategically vote for som...\n",
       "16  @user Haters!!! You are low in self worth. Sel...\n",
       "17  I saved him after ordering him to risk his lif...\n",
       "18  @user Uggh that's really horrible. You're not ...\n",
       "19  @user @user @user Tamra would F her up if she ...\n",
       "20  Love is when all your happiness and all your s...\n",
       "21  It’s possible changing meds is best not done w...\n",
       "22  im also definitely still bitter about the yell...\n",
       "23  @user The irony is that those protesting about...\n",
       "24               @user @user nah way that's horrible \n",
       "25  @user I think just becz u have so much terror ...\n",
       "26                    angel delight is my everything \n",
       "27  Puzzle investing opening portland feodal popul...\n",
       "28  I believe I'm gonna start singing in my snap s...\n",
       "29  I have a rage rage ep 2 coming out soon I'll k...\n",
       "30  Why have I only just started watching glee thi...\n",
       "31  Jorge deserves it, honestly. He's weak.  #90da...\n",
       "32  @user 'shit' doesn't even begin to describe th...\n",
       "33  @user @user ditto!! Such an amazing atmosphere...\n",
       "34  Interview preparation, I hate talking about my...\n",
       "35                         Manchester derby at home  \n",
       "36  It'd probably be useful to more than women, bu...\n",
       "37  her; i want a playful relationship\\nme; *kicks...\n",
       "38  Romero is fucking dreadful like seriously my 1...\n",
       "39  @user It’s taken for granted, while the misogy...\n",
       "40  @user oh I see. I've seen so many people mourn...\n",
       "41  so gutted i dropped one of my earrings down th...\n",
       "42  Happy birthday to Stephen King, a man responsi...\n",
       "43  “ My courage always rises at every attempt to ...\n",
       "44  It's a good day at work when you get to shake ...\n",
       "45  I'm so bored and fat and full and ridiculously...\n",
       "46          @user Flirt, simper, pout, repeat. Yuck. \n",
       "47  Trumpism likewise rests on a bed of racial res...\n",
       "48  There's this Bpharm4 guy Eish that guy brings ...\n",
       "49  Tears and eyes can dry but I won't, I'm burnin..."
      ]
     },
     "execution_count": 3,
     "metadata": {},
     "output_type": "execute_result"
    }
   ],
   "source": [
    "X_train = pd.read_csv('../input/tweeteval/train_text.txt',header=None,sep=\"\\n\")\n",
    "y_train = pd.read_csv('../input/tweeteval/train_labels.txt',header=None,sep=\"\\n\")\n",
    "X_val = pd.read_csv('../input/tweeteval/val_text.txt',header=None,sep=\"\\n\") \n",
    "y_val =  pd.read_csv('../input/tweeteval/val_labels.txt',header=None,sep=\"\\n\")\n",
    "X =  pd.concat([X_train, X_val])\n",
    "\n",
    "y = pd.concat([y_train,y_val])              \n",
    "\n",
    "X.head(50)"
   ]
  },
  {
   "cell_type": "markdown",
   "id": "c12b9ed6",
   "metadata": {
    "papermill": {
     "duration": 0.088992,
     "end_time": "2022-03-18T20:36:12.945294",
     "exception": false,
     "start_time": "2022-03-18T20:36:12.856302",
     "status": "completed"
    },
    "tags": []
   },
   "source": [
    "After that we'll unify column names for future concatenation"
   ]
  },
  {
   "cell_type": "code",
   "execution_count": 4,
   "id": "0e2be736",
   "metadata": {
    "execution": {
     "iopub.execute_input": "2022-03-18T20:36:13.137043Z",
     "iopub.status.busy": "2022-03-18T20:36:13.136093Z",
     "iopub.status.idle": "2022-03-18T20:36:13.140133Z",
     "shell.execute_reply": "2022-03-18T20:36:13.140673Z",
     "shell.execute_reply.started": "2022-03-18T20:13:21.085128Z"
    },
    "papermill": {
     "duration": 0.106182,
     "end_time": "2022-03-18T20:36:13.140866",
     "exception": false,
     "start_time": "2022-03-18T20:36:13.034684",
     "status": "completed"
    },
    "tags": []
   },
   "outputs": [
    {
     "data": {
      "text/html": [
       "<div>\n",
       "<style scoped>\n",
       "    .dataframe tbody tr th:only-of-type {\n",
       "        vertical-align: middle;\n",
       "    }\n",
       "\n",
       "    .dataframe tbody tr th {\n",
       "        vertical-align: top;\n",
       "    }\n",
       "\n",
       "    .dataframe thead th {\n",
       "        text-align: right;\n",
       "    }\n",
       "</style>\n",
       "<table border=\"1\" class=\"dataframe\">\n",
       "  <thead>\n",
       "    <tr style=\"text-align: right;\">\n",
       "      <th></th>\n",
       "      <th>text</th>\n",
       "      <th>label</th>\n",
       "    </tr>\n",
       "  </thead>\n",
       "  <tbody>\n",
       "    <tr>\n",
       "      <th>0</th>\n",
       "      <td>“Worry is a down payment on a problem you may ...</td>\n",
       "      <td>2</td>\n",
       "    </tr>\n",
       "    <tr>\n",
       "      <th>1</th>\n",
       "      <td>My roommate: it's okay that we can't spell bec...</td>\n",
       "      <td>0</td>\n",
       "    </tr>\n",
       "    <tr>\n",
       "      <th>2</th>\n",
       "      <td>No but that's so cute. Atsu was probably shy a...</td>\n",
       "      <td>1</td>\n",
       "    </tr>\n",
       "    <tr>\n",
       "      <th>3</th>\n",
       "      <td>Rooneys fucking untouchable isn't he? Been fuc...</td>\n",
       "      <td>0</td>\n",
       "    </tr>\n",
       "    <tr>\n",
       "      <th>4</th>\n",
       "      <td>it's pretty depressing when u hit pan on ur fa...</td>\n",
       "      <td>3</td>\n",
       "    </tr>\n",
       "  </tbody>\n",
       "</table>\n",
       "</div>"
      ],
      "text/plain": [
       "                                                text  label\n",
       "0  “Worry is a down payment on a problem you may ...      2\n",
       "1  My roommate: it's okay that we can't spell bec...      0\n",
       "2  No but that's so cute. Atsu was probably shy a...      1\n",
       "3  Rooneys fucking untouchable isn't he? Been fuc...      0\n",
       "4  it's pretty depressing when u hit pan on ur fa...      3"
      ]
     },
     "execution_count": 4,
     "metadata": {},
     "output_type": "execute_result"
    }
   ],
   "source": [
    "X.rename(columns={0:\"text\"},inplace=True)\n",
    "y.rename(columns={0:\"label\"},inplace=True)\n",
    "df = pd.concat([X,y],axis=1)\n",
    "df.head()"
   ]
  },
  {
   "cell_type": "code",
   "execution_count": 5,
   "id": "d7ccda71",
   "metadata": {
    "execution": {
     "iopub.execute_input": "2022-03-18T20:36:13.331087Z",
     "iopub.status.busy": "2022-03-18T20:36:13.329974Z",
     "iopub.status.idle": "2022-03-18T20:36:13.602406Z",
     "shell.execute_reply": "2022-03-18T20:36:13.601598Z",
     "shell.execute_reply.started": "2022-03-18T20:13:21.106210Z"
    },
    "papermill": {
     "duration": 0.371058,
     "end_time": "2022-03-18T20:36:13.602559",
     "exception": false,
     "start_time": "2022-03-18T20:36:13.231501",
     "status": "completed"
    },
    "tags": []
   },
   "outputs": [
    {
     "name": "stderr",
     "output_type": "stream",
     "text": [
      "/opt/conda/lib/python3.7/site-packages/seaborn/_decorators.py:43: FutureWarning: Pass the following variable as a keyword arg: x. From version 0.12, the only valid positional argument will be `data`, and passing other arguments without an explicit keyword will result in an error or misinterpretation.\n",
      "  FutureWarning\n"
     ]
    },
    {
     "data": {
      "text/plain": [
       "<AxesSubplot:xlabel='label', ylabel='count'>"
      ]
     },
     "execution_count": 5,
     "metadata": {},
     "output_type": "execute_result"
    },
    {
     "data": {
      "image/png": "[encoded data removed]",
      "text/plain": [
       "<Figure size 432x288 with 1 Axes>"
      ]
     },
     "metadata": {
      "needs_background": "light"
     },
     "output_type": "display_data"
    }
   ],
   "source": [
    "sns.countplot(df['label'])"
   ]
  },
  {
   "cell_type": "markdown",
   "id": "bb74709f",
   "metadata": {
    "papermill": {
     "duration": 0.09258,
     "end_time": "2022-03-18T20:36:13.785679",
     "exception": false,
     "start_time": "2022-03-18T20:36:13.693099",
     "status": "completed"
    },
    "tags": []
   },
   "source": [
    "Looks like our data is skewed ... that's why I chose gathering up my data.\n",
    "\n",
    "0 stands for \"Anger\" \n",
    "1 stands for \"Joy\"\n",
    "2 stands for \"Optimistic\"\n",
    "3 stands for \"Sadness\" as mentioned in data manual\n",
    "\n",
    "So... we're dropping label (2)"
   ]
  },
  {
   "cell_type": "code",
   "execution_count": 6,
   "id": "04ac9703",
   "metadata": {
    "execution": {
     "iopub.execute_input": "2022-03-18T20:36:13.982731Z",
     "iopub.status.busy": "2022-03-18T20:36:13.978512Z",
     "iopub.status.idle": "2022-03-18T20:36:14.201210Z",
     "shell.execute_reply": "2022-03-18T20:36:14.200582Z",
     "shell.execute_reply.started": "2022-03-18T20:13:21.389001Z"
    },
    "papermill": {
     "duration": 0.322091,
     "end_time": "2022-03-18T20:36:14.201372",
     "exception": false,
     "start_time": "2022-03-18T20:36:13.879281",
     "status": "completed"
    },
    "tags": []
   },
   "outputs": [
    {
     "name": "stderr",
     "output_type": "stream",
     "text": [
      "/opt/conda/lib/python3.7/site-packages/seaborn/_decorators.py:43: FutureWarning: Pass the following variable as a keyword arg: x. From version 0.12, the only valid positional argument will be `data`, and passing other arguments without an explicit keyword will result in an error or misinterpretation.\n",
      "  FutureWarning\n"
     ]
    },
    {
     "data": {
      "text/plain": [
       "<AxesSubplot:xlabel='label', ylabel='count'>"
      ]
     },
     "execution_count": 6,
     "metadata": {},
     "output_type": "execute_result"
    },
    {
     "data": {
      "image/png": "[encoded data removed]",
      "text/plain": [
       "<Figure size 432x288 with 1 Axes>"
      ]
     },
     "metadata": {
      "needs_background": "light"
     },
     "output_type": "display_data"
    }
   ],
   "source": [
    "df = df[df.label != 2]\n",
    "val_count = df['label'].value_counts()\n",
    "sns.countplot(df['label'])"
   ]
  },
  {
   "cell_type": "markdown",
   "id": "a8676ab4",
   "metadata": {
    "papermill": {
     "duration": 0.092743,
     "end_time": "2022-03-18T20:36:14.388524",
     "exception": false,
     "start_time": "2022-03-18T20:36:14.295781",
     "status": "completed"
    },
    "tags": []
   },
   "source": [
    "Let's join some tweets from the second section which have label (\"Neutral\") in it."
   ]
  },
  {
   "cell_type": "code",
   "execution_count": 7,
   "id": "aaf60485",
   "metadata": {
    "execution": {
     "iopub.execute_input": "2022-03-18T20:36:14.586234Z",
     "iopub.status.busy": "2022-03-18T20:36:14.585534Z",
     "iopub.status.idle": "2022-03-18T20:36:14.746514Z",
     "shell.execute_reply": "2022-03-18T20:36:14.745854Z",
     "shell.execute_reply.started": "2022-03-18T20:13:21.585185Z"
    },
    "papermill": {
     "duration": 0.260245,
     "end_time": "2022-03-18T20:36:14.746708",
     "exception": false,
     "start_time": "2022-03-18T20:36:14.486463",
     "status": "completed"
    },
    "tags": []
   },
   "outputs": [
    {
     "name": "stdout",
     "output_type": "stream",
     "text": [
      "<class 'pandas.core.frame.DataFrame'>\n",
      "Int64Index: 20673 entries, 1 to 45614\n",
      "Data columns (total 2 columns):\n",
      " #   Column  Non-Null Count  Dtype \n",
      "---  ------  --------------  ----- \n",
      " 0   text    16436 non-null  object\n",
      " 1   label   20673 non-null  int64 \n",
      "dtypes: int64(1), object(1)\n",
      "memory usage: 484.5+ KB\n"
     ]
    },
    {
     "data": {
      "text/html": [
       "<div>\n",
       "<style scoped>\n",
       "    .dataframe tbody tr th:only-of-type {\n",
       "        vertical-align: middle;\n",
       "    }\n",
       "\n",
       "    .dataframe tbody tr th {\n",
       "        vertical-align: top;\n",
       "    }\n",
       "\n",
       "    .dataframe thead th {\n",
       "        text-align: right;\n",
       "    }\n",
       "</style>\n",
       "<table border=\"1\" class=\"dataframe\">\n",
       "  <thead>\n",
       "    <tr style=\"text-align: right;\">\n",
       "      <th></th>\n",
       "      <th>text</th>\n",
       "      <th>label</th>\n",
       "    </tr>\n",
       "  </thead>\n",
       "  <tbody>\n",
       "    <tr>\n",
       "      <th>45597</th>\n",
       "      <td>NaN</td>\n",
       "      <td>1</td>\n",
       "    </tr>\n",
       "    <tr>\n",
       "      <th>45598</th>\n",
       "      <td>NaN</td>\n",
       "      <td>1</td>\n",
       "    </tr>\n",
       "    <tr>\n",
       "      <th>45599</th>\n",
       "      <td>NaN</td>\n",
       "      <td>1</td>\n",
       "    </tr>\n",
       "    <tr>\n",
       "      <th>45602</th>\n",
       "      <td>NaN</td>\n",
       "      <td>1</td>\n",
       "    </tr>\n",
       "    <tr>\n",
       "      <th>45603</th>\n",
       "      <td>NaN</td>\n",
       "      <td>1</td>\n",
       "    </tr>\n",
       "    <tr>\n",
       "      <th>45605</th>\n",
       "      <td>NaN</td>\n",
       "      <td>1</td>\n",
       "    </tr>\n",
       "    <tr>\n",
       "      <th>45608</th>\n",
       "      <td>NaN</td>\n",
       "      <td>1</td>\n",
       "    </tr>\n",
       "    <tr>\n",
       "      <th>45609</th>\n",
       "      <td>NaN</td>\n",
       "      <td>1</td>\n",
       "    </tr>\n",
       "    <tr>\n",
       "      <th>45613</th>\n",
       "      <td>NaN</td>\n",
       "      <td>1</td>\n",
       "    </tr>\n",
       "    <tr>\n",
       "      <th>45614</th>\n",
       "      <td>NaN</td>\n",
       "      <td>1</td>\n",
       "    </tr>\n",
       "  </tbody>\n",
       "</table>\n",
       "</div>"
      ],
      "text/plain": [
       "      text  label\n",
       "45597  NaN      1\n",
       "45598  NaN      1\n",
       "45599  NaN      1\n",
       "45602  NaN      1\n",
       "45603  NaN      1\n",
       "45605  NaN      1\n",
       "45608  NaN      1\n",
       "45609  NaN      1\n",
       "45613  NaN      1\n",
       "45614  NaN      1"
      ]
     },
     "execution_count": 7,
     "metadata": {},
     "output_type": "execute_result"
    }
   ],
   "source": [
    "neutralx=pd.read_csv('../input/tweetevalsentiment/train_text.txt',header=None,sep=\"\\n\")\n",
    "neutraly= pd.read_csv('../input/tweetevalsentiment/train_labels.txt',header=None,sep=\"\\n\")\n",
    "neutralx.rename(columns={0 : \"text\"}, inplace = True)\n",
    "neutraly.rename(columns={0: \"label\"},inplace = True)\n",
    "neutral = pd.concat([neutralx,neutraly], axis = 1)\n",
    "neutral = neutral.loc[neutral['label'] == 1]\n",
    "neutral.info()\n",
    "neutral.tail(10)"
   ]
  },
  {
   "cell_type": "code",
   "execution_count": 8,
   "id": "e6460fe2",
   "metadata": {
    "execution": {
     "iopub.execute_input": "2022-03-18T20:36:14.946054Z",
     "iopub.status.busy": "2022-03-18T20:36:14.944951Z",
     "iopub.status.idle": "2022-03-18T20:36:14.958940Z",
     "shell.execute_reply": "2022-03-18T20:36:14.960143Z",
     "shell.execute_reply.started": "2022-03-18T20:13:21.748777Z"
    },
    "papermill": {
     "duration": 0.118826,
     "end_time": "2022-03-18T20:36:14.960402",
     "exception": false,
     "start_time": "2022-03-18T20:36:14.841576",
     "status": "completed"
    },
    "tags": []
   },
   "outputs": [
    {
     "name": "stdout",
     "output_type": "stream",
     "text": [
      "<class 'pandas.core.frame.DataFrame'>\n",
      "Int64Index: 16436 entries, 1 to 36371\n",
      "Data columns (total 2 columns):\n",
      " #   Column  Non-Null Count  Dtype \n",
      "---  ------  --------------  ----- \n",
      " 0   text    16436 non-null  object\n",
      " 1   label   16436 non-null  int64 \n",
      "dtypes: int64(1), object(1)\n",
      "memory usage: 385.2+ KB\n"
     ]
    }
   ],
   "source": [
    "neutral.dropna(axis=0, how='any', thresh=None, subset=None, inplace=True)\n",
    "neutral.info()"
   ]
  },
  {
   "cell_type": "code",
   "execution_count": 9,
   "id": "dbbb4626",
   "metadata": {
    "execution": {
     "iopub.execute_input": "2022-03-18T20:36:15.174386Z",
     "iopub.status.busy": "2022-03-18T20:36:15.168437Z",
     "iopub.status.idle": "2022-03-18T20:36:15.178176Z",
     "shell.execute_reply": "2022-03-18T20:36:15.178812Z",
     "shell.execute_reply.started": "2022-03-18T20:13:21.779471Z"
    },
    "papermill": {
     "duration": 0.110942,
     "end_time": "2022-03-18T20:36:15.178994",
     "exception": false,
     "start_time": "2022-03-18T20:36:15.068052",
     "status": "completed"
    },
    "tags": []
   },
   "outputs": [
    {
     "data": {
      "text/html": [
       "<div>\n",
       "<style scoped>\n",
       "    .dataframe tbody tr th:only-of-type {\n",
       "        vertical-align: middle;\n",
       "    }\n",
       "\n",
       "    .dataframe tbody tr th {\n",
       "        vertical-align: top;\n",
       "    }\n",
       "\n",
       "    .dataframe thead th {\n",
       "        text-align: right;\n",
       "    }\n",
       "</style>\n",
       "<table border=\"1\" class=\"dataframe\">\n",
       "  <thead>\n",
       "    <tr style=\"text-align: right;\">\n",
       "      <th></th>\n",
       "      <th>text</th>\n",
       "      <th>label</th>\n",
       "    </tr>\n",
       "  </thead>\n",
       "  <tbody>\n",
       "    <tr>\n",
       "      <th>1</th>\n",
       "      <td>Ben Smith / Smith (concussion) remains out of ...</td>\n",
       "      <td>2</td>\n",
       "    </tr>\n",
       "    <tr>\n",
       "      <th>2</th>\n",
       "      <td>Sorry bout the stream last night I crashed out...</td>\n",
       "      <td>2</td>\n",
       "    </tr>\n",
       "    <tr>\n",
       "      <th>3</th>\n",
       "      <td>Chase Headley's RBI double in the 8th inning o...</td>\n",
       "      <td>2</td>\n",
       "    </tr>\n",
       "    <tr>\n",
       "      <th>9</th>\n",
       "      <td>@user @user CENA &amp; AJ sitting in a tree K-I-S-...</td>\n",
       "      <td>2</td>\n",
       "    </tr>\n",
       "    <tr>\n",
       "      <th>10</th>\n",
       "      <td>@user Well said on HMW. Can you now address wh...</td>\n",
       "      <td>2</td>\n",
       "    </tr>\n",
       "  </tbody>\n",
       "</table>\n",
       "</div>"
      ],
      "text/plain": [
       "                                                 text  label\n",
       "1   Ben Smith / Smith (concussion) remains out of ...      2\n",
       "2   Sorry bout the stream last night I crashed out...      2\n",
       "3   Chase Headley's RBI double in the 8th inning o...      2\n",
       "9   @user @user CENA & AJ sitting in a tree K-I-S-...      2\n",
       "10  @user Well said on HMW. Can you now address wh...      2"
      ]
     },
     "execution_count": 9,
     "metadata": {},
     "output_type": "execute_result"
    }
   ],
   "source": [
    "neutral.label = 2\n",
    "neutral.head()"
   ]
  },
  {
   "cell_type": "code",
   "execution_count": 10,
   "id": "2d90e5e9",
   "metadata": {
    "execution": {
     "iopub.execute_input": "2022-03-18T20:36:15.375159Z",
     "iopub.status.busy": "2022-03-18T20:36:15.374089Z",
     "iopub.status.idle": "2022-03-18T20:36:15.387885Z",
     "shell.execute_reply": "2022-03-18T20:36:15.388773Z",
     "shell.execute_reply.started": "2022-03-18T20:13:21.803296Z"
    },
    "papermill": {
     "duration": 0.116351,
     "end_time": "2022-03-18T20:36:15.389075",
     "exception": false,
     "start_time": "2022-03-18T20:36:15.272724",
     "status": "completed"
    },
    "tags": []
   },
   "outputs": [
    {
     "name": "stdout",
     "output_type": "stream",
     "text": [
      "<class 'pandas.core.frame.DataFrame'>\n",
      "Int64Index: 3000 entries, 25888 to 16383\n",
      "Data columns (total 2 columns):\n",
      " #   Column  Non-Null Count  Dtype \n",
      "---  ------  --------------  ----- \n",
      " 0   text    3000 non-null   object\n",
      " 1   label   3000 non-null   int64 \n",
      "dtypes: int64(1), object(1)\n",
      "memory usage: 70.3+ KB\n"
     ]
    }
   ],
   "source": [
    "neutral = neutral.sample(n = 3000)\n",
    "#I got only 3000 records to avoid label domination and I will add more data to all other classes in the future.\n",
    "neutral.info()"
   ]
  },
  {
   "cell_type": "code",
   "execution_count": 11,
   "id": "3c8fc57c",
   "metadata": {
    "execution": {
     "iopub.execute_input": "2022-03-18T20:36:15.592313Z",
     "iopub.status.busy": "2022-03-18T20:36:15.589917Z",
     "iopub.status.idle": "2022-03-18T20:36:15.593273Z",
     "shell.execute_reply": "2022-03-18T20:36:15.593802Z",
     "shell.execute_reply.started": "2022-03-18T20:13:21.827865Z"
    },
    "papermill": {
     "duration": 0.106349,
     "end_time": "2022-03-18T20:36:15.594013",
     "exception": false,
     "start_time": "2022-03-18T20:36:15.487664",
     "status": "completed"
    },
    "tags": []
   },
   "outputs": [],
   "source": [
    "df = pd.concat([df,neutral])"
   ]
  },
  {
   "cell_type": "code",
   "execution_count": 12,
   "id": "f585b68a",
   "metadata": {
    "execution": {
     "iopub.execute_input": "2022-03-18T20:36:15.791205Z",
     "iopub.status.busy": "2022-03-18T20:36:15.790150Z",
     "iopub.status.idle": "2022-03-18T20:36:15.799666Z",
     "shell.execute_reply": "2022-03-18T20:36:15.800251Z",
     "shell.execute_reply.started": "2022-03-18T20:13:21.848254Z"
    },
    "papermill": {
     "duration": 0.110302,
     "end_time": "2022-03-18T20:36:15.800430",
     "exception": false,
     "start_time": "2022-03-18T20:36:15.690128",
     "status": "completed"
    },
    "tags": []
   },
   "outputs": [
    {
     "data": {
      "text/html": [
       "<div>\n",
       "<style scoped>\n",
       "    .dataframe tbody tr th:only-of-type {\n",
       "        vertical-align: middle;\n",
       "    }\n",
       "\n",
       "    .dataframe tbody tr th {\n",
       "        vertical-align: top;\n",
       "    }\n",
       "\n",
       "    .dataframe thead th {\n",
       "        text-align: right;\n",
       "    }\n",
       "</style>\n",
       "<table border=\"1\" class=\"dataframe\">\n",
       "  <thead>\n",
       "    <tr style=\"text-align: right;\">\n",
       "      <th></th>\n",
       "      <th>text</th>\n",
       "      <th>label</th>\n",
       "    </tr>\n",
       "  </thead>\n",
       "  <tbody>\n",
       "    <tr>\n",
       "      <th>2418</th>\n",
       "      <td>#GBBO is such a homely pure piece of tv gold. ...</td>\n",
       "      <td>0</td>\n",
       "    </tr>\n",
       "    <tr>\n",
       "      <th>114</th>\n",
       "      <td>@user Eduardo without injury was honestly amaz...</td>\n",
       "      <td>3</td>\n",
       "    </tr>\n",
       "    <tr>\n",
       "      <th>538</th>\n",
       "      <td>When you wake up, scroll through social media,...</td>\n",
       "      <td>3</td>\n",
       "    </tr>\n",
       "    <tr>\n",
       "      <th>1685</th>\n",
       "      <td>Watched tna for the first time in a long time ...</td>\n",
       "      <td>3</td>\n",
       "    </tr>\n",
       "    <tr>\n",
       "      <th>13449</th>\n",
       "      <td>@user I'm about that Xbox life fam. But I'm th...</td>\n",
       "      <td>2</td>\n",
       "    </tr>\n",
       "  </tbody>\n",
       "</table>\n",
       "</div>"
      ],
      "text/plain": [
       "                                                    text  label\n",
       "2418   #GBBO is such a homely pure piece of tv gold. ...      0\n",
       "114    @user Eduardo without injury was honestly amaz...      3\n",
       "538    When you wake up, scroll through social media,...      3\n",
       "1685   Watched tna for the first time in a long time ...      3\n",
       "13449  @user I'm about that Xbox life fam. But I'm th...      2"
      ]
     },
     "execution_count": 12,
     "metadata": {},
     "output_type": "execute_result"
    }
   ],
   "source": [
    "df = df.sample(frac=1)\n",
    "df.tail()"
   ]
  },
  {
   "cell_type": "markdown",
   "id": "5b6589ba",
   "metadata": {
    "papermill": {
     "duration": 0.098181,
     "end_time": "2022-03-18T20:36:15.993946",
     "exception": false,
     "start_time": "2022-03-18T20:36:15.895765",
     "status": "completed"
    },
    "tags": []
   },
   "source": [
    "Now we got our data with (\"Neutral\") class"
   ]
  },
  {
   "cell_type": "code",
   "execution_count": 13,
   "id": "fbaf6ea3",
   "metadata": {
    "execution": {
     "iopub.execute_input": "2022-03-18T20:36:16.201861Z",
     "iopub.status.busy": "2022-03-18T20:36:16.200829Z",
     "iopub.status.idle": "2022-03-18T20:36:16.418403Z",
     "shell.execute_reply": "2022-03-18T20:36:16.418955Z",
     "shell.execute_reply.started": "2022-03-18T20:13:21.878398Z"
    },
    "papermill": {
     "duration": 0.321305,
     "end_time": "2022-03-18T20:36:16.419170",
     "exception": false,
     "start_time": "2022-03-18T20:36:16.097865",
     "status": "completed"
    },
    "tags": []
   },
   "outputs": [
    {
     "name": "stderr",
     "output_type": "stream",
     "text": [
      "/opt/conda/lib/python3.7/site-packages/seaborn/_decorators.py:43: FutureWarning: Pass the following variable as a keyword arg: x. From version 0.12, the only valid positional argument will be `data`, and passing other arguments without an explicit keyword will result in an error or misinterpretation.\n",
      "  FutureWarning\n"
     ]
    },
    {
     "data": {
      "text/plain": [
       "<AxesSubplot:xlabel='label', ylabel='count'>"
      ]
     },
     "execution_count": 13,
     "metadata": {},
     "output_type": "execute_result"
    },
    {
     "data": {
      "image/png": "[encoded data removed]",
      "text/plain": [
       "<Figure size 432x288 with 1 Axes>"
      ]
     },
     "metadata": {
      "needs_background": "light"
     },
     "output_type": "display_data"
    }
   ],
   "source": [
    "sns.countplot(df['label'])"
   ]
  },
  {
   "cell_type": "markdown",
   "id": "9fd2a8fb",
   "metadata": {
    "papermill": {
     "duration": 0.095681,
     "end_time": "2022-03-18T20:36:16.611782",
     "exception": false,
     "start_time": "2022-03-18T20:36:16.516101",
     "status": "completed"
    },
    "tags": []
   },
   "source": [
    "I did clean this data before using Excel (Attached more details)"
   ]
  },
  {
   "cell_type": "code",
   "execution_count": 14,
   "id": "223f1ca7",
   "metadata": {
    "execution": {
     "iopub.execute_input": "2022-03-18T20:36:16.820300Z",
     "iopub.status.busy": "2022-03-18T20:36:16.819601Z",
     "iopub.status.idle": "2022-03-18T20:36:16.876964Z",
     "shell.execute_reply": "2022-03-18T20:36:16.876232Z",
     "shell.execute_reply.started": "2022-03-18T20:13:22.065040Z"
    },
    "papermill": {
     "duration": 0.167064,
     "end_time": "2022-03-18T20:36:16.877151",
     "exception": false,
     "start_time": "2022-03-18T20:36:16.710087",
     "status": "completed"
    },
    "tags": []
   },
   "outputs": [
    {
     "data": {
      "text/plain": [
       "array(['anger', 'unknown', 'fear', 'joy', 'sadness'], dtype=object)"
      ]
     },
     "execution_count": 14,
     "metadata": {},
     "output_type": "execute_result"
    }
   ],
   "source": [
    "df2=pd.read_csv('../input/tweets-csv/Tweetsclean.csv')\n",
    "df2.Sentiment.unique()"
   ]
  },
  {
   "cell_type": "code",
   "execution_count": 15,
   "id": "91580bfd",
   "metadata": {
    "execution": {
     "iopub.execute_input": "2022-03-18T20:36:17.085340Z",
     "iopub.status.busy": "2022-03-18T20:36:17.084170Z",
     "iopub.status.idle": "2022-03-18T20:36:17.086727Z",
     "shell.execute_reply": "2022-03-18T20:36:17.087321Z",
     "shell.execute_reply.started": "2022-03-18T20:13:22.129821Z"
    },
    "papermill": {
     "duration": 0.110337,
     "end_time": "2022-03-18T20:36:17.087511",
     "exception": false,
     "start_time": "2022-03-18T20:36:16.977174",
     "status": "completed"
    },
    "tags": []
   },
   "outputs": [],
   "source": [
    "df2=df2[['Tweet','Sentiment']]"
   ]
  },
  {
   "cell_type": "markdown",
   "id": "fbc53a6f",
   "metadata": {
    "papermill": {
     "duration": 0.098821,
     "end_time": "2022-03-18T20:36:17.286373",
     "exception": false,
     "start_time": "2022-03-18T20:36:17.187552",
     "status": "completed"
    },
    "tags": []
   },
   "source": [
    "From my very little experience: String labels are not the best for keras models."
   ]
  },
  {
   "cell_type": "code",
   "execution_count": 16,
   "id": "94119f5e",
   "metadata": {
    "execution": {
     "iopub.execute_input": "2022-03-18T20:36:17.603491Z",
     "iopub.status.busy": "2022-03-18T20:36:17.602234Z",
     "iopub.status.idle": "2022-03-18T20:36:17.617638Z",
     "shell.execute_reply": "2022-03-18T20:36:17.618355Z",
     "shell.execute_reply.started": "2022-03-18T20:13:22.156255Z"
    },
    "papermill": {
     "duration": 0.194145,
     "end_time": "2022-03-18T20:36:17.618622",
     "exception": false,
     "start_time": "2022-03-18T20:36:17.424477",
     "status": "completed"
    },
    "tags": []
   },
   "outputs": [
    {
     "data": {
      "text/plain": [
       "array([0, 'unknown', 'fear', 1, 3], dtype=object)"
      ]
     },
     "execution_count": 16,
     "metadata": {},
     "output_type": "execute_result"
    }
   ],
   "source": [
    "df2['Sentiment'].mask(df2['Sentiment'] == \"anger\" , 0, inplace=True)\n",
    "df2['Sentiment'].mask(df2['Sentiment'] == \"joy\" , 1, inplace=True)\n",
    "df2['Sentiment'].mask(df2['Sentiment'] == \"sadness\" , 3, inplace=True)\n",
    "df2.Sentiment.unique()\n"
   ]
  },
  {
   "cell_type": "markdown",
   "id": "3bd10612",
   "metadata": {
    "papermill": {
     "duration": 0.167392,
     "end_time": "2022-03-18T20:36:17.956501",
     "exception": false,
     "start_time": "2022-03-18T20:36:17.789109",
     "status": "completed"
    },
    "tags": []
   },
   "source": [
    "Now let's takeout classes that we won't use in our model"
   ]
  },
  {
   "cell_type": "code",
   "execution_count": 17,
   "id": "08e0052c",
   "metadata": {
    "execution": {
     "iopub.execute_input": "2022-03-18T20:36:18.311513Z",
     "iopub.status.busy": "2022-03-18T20:36:18.310393Z",
     "iopub.status.idle": "2022-03-18T20:36:18.318164Z",
     "shell.execute_reply": "2022-03-18T20:36:18.319627Z",
     "shell.execute_reply.started": "2022-03-18T20:13:22.186561Z"
    },
    "papermill": {
     "duration": 0.185527,
     "end_time": "2022-03-18T20:36:18.319871",
     "exception": false,
     "start_time": "2022-03-18T20:36:18.134344",
     "status": "completed"
    },
    "tags": []
   },
   "outputs": [
    {
     "data": {
      "text/plain": [
       "array([0, 1, 3], dtype=object)"
      ]
     },
     "execution_count": 17,
     "metadata": {},
     "output_type": "execute_result"
    }
   ],
   "source": [
    "df2 = df2[df2.Sentiment != \"fear\"]\n",
    "df2 = df2[df2.Sentiment != \"unknown\"]\n",
    "df2.Sentiment.unique()"
   ]
  },
  {
   "cell_type": "code",
   "execution_count": 18,
   "id": "328298ea",
   "metadata": {
    "execution": {
     "iopub.execute_input": "2022-03-18T20:36:18.672757Z",
     "iopub.status.busy": "2022-03-18T20:36:18.671780Z",
     "iopub.status.idle": "2022-03-18T20:36:18.680192Z",
     "shell.execute_reply": "2022-03-18T20:36:18.680953Z",
     "shell.execute_reply.started": "2022-03-18T20:13:22.209773Z"
    },
    "papermill": {
     "duration": 0.182131,
     "end_time": "2022-03-18T20:36:18.681229",
     "exception": false,
     "start_time": "2022-03-18T20:36:18.499098",
     "status": "completed"
    },
    "tags": []
   },
   "outputs": [
    {
     "data": {
      "text/html": [
       "<div>\n",
       "<style scoped>\n",
       "    .dataframe tbody tr th:only-of-type {\n",
       "        vertical-align: middle;\n",
       "    }\n",
       "\n",
       "    .dataframe tbody tr th {\n",
       "        vertical-align: top;\n",
       "    }\n",
       "\n",
       "    .dataframe thead th {\n",
       "        text-align: right;\n",
       "    }\n",
       "</style>\n",
       "<table border=\"1\" class=\"dataframe\">\n",
       "  <thead>\n",
       "    <tr style=\"text-align: right;\">\n",
       "      <th></th>\n",
       "      <th>Tweet</th>\n",
       "      <th>Sentiment</th>\n",
       "    </tr>\n",
       "  </thead>\n",
       "  <tbody>\n",
       "    <tr>\n",
       "      <th>0</th>\n",
       "      <td>How the fu*k! Who the heck! moved my fridge!.....</td>\n",
       "      <td>0</td>\n",
       "    </tr>\n",
       "    <tr>\n",
       "      <th>1</th>\n",
       "      <td>So my Indian Uber driver just called someone t...</td>\n",
       "      <td>0</td>\n",
       "    </tr>\n",
       "    <tr>\n",
       "      <th>2</th>\n",
       "      <td>@DPD_UK I asked for my parcel to be delivered ...</td>\n",
       "      <td>0</td>\n",
       "    </tr>\n",
       "    <tr>\n",
       "      <th>3</th>\n",
       "      <td>so ef whichever butt wipe pulled the fire alar...</td>\n",
       "      <td>0</td>\n",
       "    </tr>\n",
       "    <tr>\n",
       "      <th>4</th>\n",
       "      <td>Don't join @BTCare they put the phone down on ...</td>\n",
       "      <td>0</td>\n",
       "    </tr>\n",
       "  </tbody>\n",
       "</table>\n",
       "</div>"
      ],
      "text/plain": [
       "                                               Tweet Sentiment\n",
       "0  How the fu*k! Who the heck! moved my fridge!.....         0\n",
       "1  So my Indian Uber driver just called someone t...         0\n",
       "2  @DPD_UK I asked for my parcel to be delivered ...         0\n",
       "3  so ef whichever butt wipe pulled the fire alar...         0\n",
       "4  Don't join @BTCare they put the phone down on ...         0"
      ]
     },
     "execution_count": 18,
     "metadata": {},
     "output_type": "execute_result"
    }
   ],
   "source": [
    "df2.head()"
   ]
  },
  {
   "cell_type": "markdown",
   "id": "f1c515c1",
   "metadata": {
    "papermill": {
     "duration": 0.109326,
     "end_time": "2022-03-18T20:36:18.953928",
     "exception": false,
     "start_time": "2022-03-18T20:36:18.844602",
     "status": "completed"
    },
    "tags": []
   },
   "source": [
    "Again I'm unifing Dataframe structure for future concatenation"
   ]
  },
  {
   "cell_type": "code",
   "execution_count": 19,
   "id": "a328bcf1",
   "metadata": {
    "execution": {
     "iopub.execute_input": "2022-03-18T20:36:19.173704Z",
     "iopub.status.busy": "2022-03-18T20:36:19.172716Z",
     "iopub.status.idle": "2022-03-18T20:36:19.176839Z",
     "shell.execute_reply": "2022-03-18T20:36:19.177395Z",
     "shell.execute_reply.started": "2022-03-18T20:13:22.238007Z"
    },
    "papermill": {
     "duration": 0.117121,
     "end_time": "2022-03-18T20:36:19.177581",
     "exception": false,
     "start_time": "2022-03-18T20:36:19.060460",
     "status": "completed"
    },
    "tags": []
   },
   "outputs": [
    {
     "data": {
      "text/html": [
       "<div>\n",
       "<style scoped>\n",
       "    .dataframe tbody tr th:only-of-type {\n",
       "        vertical-align: middle;\n",
       "    }\n",
       "\n",
       "    .dataframe tbody tr th {\n",
       "        vertical-align: top;\n",
       "    }\n",
       "\n",
       "    .dataframe thead th {\n",
       "        text-align: right;\n",
       "    }\n",
       "</style>\n",
       "<table border=\"1\" class=\"dataframe\">\n",
       "  <thead>\n",
       "    <tr style=\"text-align: right;\">\n",
       "      <th></th>\n",
       "      <th>text</th>\n",
       "      <th>label</th>\n",
       "    </tr>\n",
       "  </thead>\n",
       "  <tbody>\n",
       "    <tr>\n",
       "      <th>207</th>\n",
       "      <td>Alright Alex and I have party boy neighbors wh...</td>\n",
       "      <td>1</td>\n",
       "    </tr>\n",
       "    <tr>\n",
       "      <th>31555</th>\n",
       "      <td>This is Buffon\\u2019s 122nd cap for Italy\\u002...</td>\n",
       "      <td>2</td>\n",
       "    </tr>\n",
       "    <tr>\n",
       "      <th>2772</th>\n",
       "      <td>@user Democrats and their voters have zero tol...</td>\n",
       "      <td>0</td>\n",
       "    </tr>\n",
       "    <tr>\n",
       "      <th>29269</th>\n",
       "      <td>@user Happy Birthday Beyonce #Salutejayz may y...</td>\n",
       "      <td>2</td>\n",
       "    </tr>\n",
       "    <tr>\n",
       "      <th>1790</th>\n",
       "      <td>@user Luckii, I'm changing in so many ways bc ...</td>\n",
       "      <td>1</td>\n",
       "    </tr>\n",
       "  </tbody>\n",
       "</table>\n",
       "</div>"
      ],
      "text/plain": [
       "                                                    text  label\n",
       "207    Alright Alex and I have party boy neighbors wh...      1\n",
       "31555  This is Buffon\\u2019s 122nd cap for Italy\\u002...      2\n",
       "2772   @user Democrats and their voters have zero tol...      0\n",
       "29269  @user Happy Birthday Beyonce #Salutejayz may y...      2\n",
       "1790   @user Luckii, I'm changing in so many ways bc ...      1"
      ]
     },
     "execution_count": 19,
     "metadata": {},
     "output_type": "execute_result"
    }
   ],
   "source": [
    "df2.rename(columns={\"Tweet\":\"text\",\"Sentiment\": \"label\"},inplace=True)\n",
    "df.head()"
   ]
  },
  {
   "cell_type": "code",
   "execution_count": 20,
   "id": "83dd0c15",
   "metadata": {
    "execution": {
     "iopub.execute_input": "2022-03-18T20:36:19.401083Z",
     "iopub.status.busy": "2022-03-18T20:36:19.399973Z",
     "iopub.status.idle": "2022-03-18T20:36:19.624420Z",
     "shell.execute_reply": "2022-03-18T20:36:19.624958Z",
     "shell.execute_reply.started": "2022-03-18T20:13:22.255972Z"
    },
    "papermill": {
     "duration": 0.345627,
     "end_time": "2022-03-18T20:36:19.625178",
     "exception": false,
     "start_time": "2022-03-18T20:36:19.279551",
     "status": "completed"
    },
    "tags": []
   },
   "outputs": [
    {
     "name": "stderr",
     "output_type": "stream",
     "text": [
      "/opt/conda/lib/python3.7/site-packages/seaborn/_decorators.py:43: FutureWarning: Pass the following variable as a keyword arg: x. From version 0.12, the only valid positional argument will be `data`, and passing other arguments without an explicit keyword will result in an error or misinterpretation.\n",
      "  FutureWarning\n"
     ]
    },
    {
     "name": "stdout",
     "output_type": "stream",
     "text": [
      "<class 'pandas.core.frame.DataFrame'>\n",
      "Int64Index: 6309 entries, 207 to 13449\n",
      "Data columns (total 2 columns):\n",
      " #   Column  Non-Null Count  Dtype \n",
      "---  ------  --------------  ----- \n",
      " 0   text    6309 non-null   object\n",
      " 1   label   6309 non-null   int64 \n",
      "dtypes: int64(1), object(1)\n",
      "memory usage: 405.9+ KB\n"
     ]
    },
    {
     "data": {
      "image/png": "[encoded data removed]",
      "text/plain": [
       "<Figure size 432x288 with 1 Axes>"
      ]
     },
     "metadata": {
      "needs_background": "light"
     },
     "output_type": "display_data"
    }
   ],
   "source": [
    "sns.countplot(df2['label'])\n",
    "df.info()"
   ]
  },
  {
   "cell_type": "markdown",
   "id": "874575d5",
   "metadata": {
    "papermill": {
     "duration": 0.103182,
     "end_time": "2022-03-18T20:36:19.830508",
     "exception": false,
     "start_time": "2022-03-18T20:36:19.727326",
     "status": "completed"
    },
    "tags": []
   },
   "source": [
    "I think I'm pretty lucky this time ... data is not skewed and beatifully balanced"
   ]
  },
  {
   "cell_type": "code",
   "execution_count": 21,
   "id": "a6fa9ca9",
   "metadata": {
    "execution": {
     "iopub.execute_input": "2022-03-18T20:36:20.096693Z",
     "iopub.status.busy": "2022-03-18T20:36:20.095601Z",
     "iopub.status.idle": "2022-03-18T20:36:20.126448Z",
     "shell.execute_reply": "2022-03-18T20:36:20.124912Z",
     "shell.execute_reply.started": "2022-03-18T20:13:22.474953Z"
    },
    "papermill": {
     "duration": 0.19387,
     "end_time": "2022-03-18T20:36:20.126702",
     "exception": false,
     "start_time": "2022-03-18T20:36:19.932832",
     "status": "completed"
    },
    "tags": []
   },
   "outputs": [
    {
     "name": "stdout",
     "output_type": "stream",
     "text": [
      "<class 'pandas.core.frame.DataFrame'>\n",
      "Int64Index: 11152 entries, 207 to 7096\n",
      "Data columns (total 2 columns):\n",
      " #   Column  Non-Null Count  Dtype \n",
      "---  ------  --------------  ----- \n",
      " 0   text    11152 non-null  object\n",
      " 1   label   11152 non-null  object\n",
      "dtypes: object(2)\n",
      "memory usage: 261.4+ KB\n"
     ]
    }
   ],
   "source": [
    "df = pd.concat([df,df2])\n",
    "df.info()"
   ]
  },
  {
   "cell_type": "code",
   "execution_count": 22,
   "id": "d2a61b92",
   "metadata": {
    "execution": {
     "iopub.execute_input": "2022-03-18T20:36:20.508653Z",
     "iopub.status.busy": "2022-03-18T20:36:20.507601Z",
     "iopub.status.idle": "2022-03-18T20:36:20.807020Z",
     "shell.execute_reply": "2022-03-18T20:36:20.807562Z",
     "shell.execute_reply.started": "2022-03-18T20:13:22.505035Z"
    },
    "papermill": {
     "duration": 0.489198,
     "end_time": "2022-03-18T20:36:20.807758",
     "exception": false,
     "start_time": "2022-03-18T20:36:20.318560",
     "status": "completed"
    },
    "tags": []
   },
   "outputs": [
    {
     "name": "stderr",
     "output_type": "stream",
     "text": [
      "/opt/conda/lib/python3.7/site-packages/seaborn/_decorators.py:43: FutureWarning: Pass the following variable as a keyword arg: x. From version 0.12, the only valid positional argument will be `data`, and passing other arguments without an explicit keyword will result in an error or misinterpretation.\n",
      "  FutureWarning\n"
     ]
    },
    {
     "data": {
      "text/plain": [
       "<AxesSubplot:xlabel='label', ylabel='count'>"
      ]
     },
     "execution_count": 22,
     "metadata": {},
     "output_type": "execute_result"
    },
    {
     "data": {
      "image/png": "[encoded data removed]",
      "text/plain": [
       "<Figure size 432x288 with 1 Axes>"
      ]
     },
     "metadata": {
      "needs_background": "light"
     },
     "output_type": "display_data"
    }
   ],
   "source": [
    "sns.countplot(df['label'])"
   ]
  },
  {
   "cell_type": "markdown",
   "id": "a7fc36c0",
   "metadata": {
    "papermill": {
     "duration": 0.106,
     "end_time": "2022-03-18T20:36:21.018617",
     "exception": false,
     "start_time": "2022-03-18T20:36:20.912617",
     "status": "completed"
    },
    "tags": []
   },
   "source": [
    "This is the final result of our data. Now let's shuffle it"
   ]
  },
  {
   "cell_type": "code",
   "execution_count": 23,
   "id": "09e7cb70",
   "metadata": {
    "execution": {
     "iopub.execute_input": "2022-03-18T20:36:21.237499Z",
     "iopub.status.busy": "2022-03-18T20:36:21.236202Z",
     "iopub.status.idle": "2022-03-18T20:36:21.240466Z",
     "shell.execute_reply": "2022-03-18T20:36:21.241028Z",
     "shell.execute_reply.started": "2022-03-18T20:13:22.720733Z"
    },
    "papermill": {
     "duration": 0.116814,
     "end_time": "2022-03-18T20:36:21.241211",
     "exception": false,
     "start_time": "2022-03-18T20:36:21.124397",
     "status": "completed"
    },
    "tags": []
   },
   "outputs": [],
   "source": [
    "df=df.sample(frac=1)"
   ]
  },
  {
   "cell_type": "code",
   "execution_count": 24,
   "id": "31faec27",
   "metadata": {
    "execution": {
     "iopub.execute_input": "2022-03-18T20:36:21.457767Z",
     "iopub.status.busy": "2022-03-18T20:36:21.456733Z",
     "iopub.status.idle": "2022-03-18T20:36:21.531577Z",
     "shell.execute_reply": "2022-03-18T20:36:21.530952Z",
     "shell.execute_reply.started": "2022-03-18T20:13:22.745795Z"
    },
    "papermill": {
     "duration": 0.185359,
     "end_time": "2022-03-18T20:36:21.531738",
     "exception": false,
     "start_time": "2022-03-18T20:36:21.346379",
     "status": "completed"
    },
    "tags": []
   },
   "outputs": [],
   "source": [
    "df.to_csv(\"mftweets.csv\")"
   ]
  },
  {
   "cell_type": "markdown",
   "id": "216f819e",
   "metadata": {
    "papermill": {
     "duration": 0.103472,
     "end_time": "2022-03-18T20:36:21.739184",
     "exception": false,
     "start_time": "2022-03-18T20:36:21.635712",
     "status": "completed"
    },
    "tags": []
   },
   "source": [
    "Now time for stop words: words that people use as fillers in their text such as pronounces or tenses: he, his, will, had... etc \n",
    "\n",
    "Stemming is finding the root of the word like : Playing > Play"
   ]
  },
  {
   "cell_type": "code",
   "execution_count": 25,
   "id": "a28065f1",
   "metadata": {
    "execution": {
     "iopub.execute_input": "2022-03-18T20:36:21.970308Z",
     "iopub.status.busy": "2022-03-18T20:36:21.969244Z",
     "iopub.status.idle": "2022-03-18T20:36:21.980197Z",
     "shell.execute_reply": "2022-03-18T20:36:21.981578Z",
     "shell.execute_reply.started": "2022-03-18T20:13:22.834617Z"
    },
    "papermill": {
     "duration": 0.140031,
     "end_time": "2022-03-18T20:36:21.981910",
     "exception": false,
     "start_time": "2022-03-18T20:36:21.841879",
     "status": "completed"
    },
    "tags": []
   },
   "outputs": [],
   "source": [
    "sw = stopwords.words(\"english\")\n",
    "stemmer = SnowballStemmer(\"english\")"
   ]
  },
  {
   "cell_type": "code",
   "execution_count": 26,
   "id": "d1067c4e",
   "metadata": {
    "execution": {
     "iopub.execute_input": "2022-03-18T20:36:22.222517Z",
     "iopub.status.busy": "2022-03-18T20:36:22.221427Z",
     "iopub.status.idle": "2022-03-18T20:36:22.224814Z",
     "shell.execute_reply": "2022-03-18T20:36:22.224237Z",
     "shell.execute_reply.started": "2022-03-18T20:13:22.848219Z"
    },
    "papermill": {
     "duration": 0.113752,
     "end_time": "2022-03-18T20:36:22.224963",
     "exception": false,
     "start_time": "2022-03-18T20:36:22.111211",
     "status": "completed"
    },
    "tags": []
   },
   "outputs": [],
   "source": [
    "re_cleaner = \"@\\S+|https?:\\S+|http?:\\S|[^A-Za-z0-9]+\"\n",
    "userPattern = \"@[^\\s]+\""
   ]
  },
  {
   "cell_type": "code",
   "execution_count": 27,
   "id": "f1fae4b5",
   "metadata": {
    "execution": {
     "iopub.execute_input": "2022-03-18T20:36:22.447218Z",
     "iopub.status.busy": "2022-03-18T20:36:22.446069Z",
     "iopub.status.idle": "2022-03-18T20:36:22.448860Z",
     "shell.execute_reply": "2022-03-18T20:36:22.449394Z",
     "shell.execute_reply.started": "2022-03-18T20:13:22.860955Z"
    },
    "papermill": {
     "duration": 0.120339,
     "end_time": "2022-03-18T20:36:22.449598",
     "exception": false,
     "start_time": "2022-03-18T20:36:22.329259",
     "status": "completed"
    },
    "tags": []
   },
   "outputs": [],
   "source": [
    "def preprocess(text, stem=False):\n",
    "  text = re.sub( userPattern , 'USER ',str(text))\n",
    "  text = re.sub(re_cleaner, ' ', str(text).lower()).strip()\n",
    "  tokens = []\n",
    "  for token in text.split():\n",
    "    if token not in sw:\n",
    "      if stem:\n",
    "        tokens.append(stemmer.stem(token))\n",
    "      else:\n",
    "        tokens.append(token)\n",
    "  return \" \".join(tokens)"
   ]
  },
  {
   "cell_type": "markdown",
   "id": "6ed3411d",
   "metadata": {
    "papermill": {
     "duration": 0.104801,
     "end_time": "2022-03-18T20:36:22.661225",
     "exception": false,
     "start_time": "2022-03-18T20:36:22.556424",
     "status": "completed"
    },
    "tags": []
   },
   "source": [
    "If a tweet looked like this :  @MohamedFawzy has always wanted to work as a data scientist! \n",
    "\n",
    "Now it will look like : USER want work data scientist"
   ]
  },
  {
   "cell_type": "code",
   "execution_count": 28,
   "id": "c16e6038",
   "metadata": {
    "execution": {
     "iopub.execute_input": "2022-03-18T20:36:22.914386Z",
     "iopub.status.busy": "2022-03-18T20:36:22.904353Z",
     "iopub.status.idle": "2022-03-18T20:36:23.479756Z",
     "shell.execute_reply": "2022-03-18T20:36:23.479183Z",
     "shell.execute_reply.started": "2022-03-18T20:13:22.880329Z"
    },
    "papermill": {
     "duration": 0.713744,
     "end_time": "2022-03-18T20:36:23.479934",
     "exception": false,
     "start_time": "2022-03-18T20:36:22.766190",
     "status": "completed"
    },
    "tags": []
   },
   "outputs": [
    {
     "data": {
      "text/html": [
       "<div>\n",
       "<style scoped>\n",
       "    .dataframe tbody tr th:only-of-type {\n",
       "        vertical-align: middle;\n",
       "    }\n",
       "\n",
       "    .dataframe tbody tr th {\n",
       "        vertical-align: top;\n",
       "    }\n",
       "\n",
       "    .dataframe thead th {\n",
       "        text-align: right;\n",
       "    }\n",
       "</style>\n",
       "<table border=\"1\" class=\"dataframe\">\n",
       "  <thead>\n",
       "    <tr style=\"text-align: right;\">\n",
       "      <th></th>\n",
       "      <th>text</th>\n",
       "      <th>label</th>\n",
       "    </tr>\n",
       "  </thead>\n",
       "  <tbody>\n",
       "    <tr>\n",
       "      <th>1386</th>\n",
       "      <td>literally dying amp living time catch user twi...</td>\n",
       "      <td>1</td>\n",
       "    </tr>\n",
       "    <tr>\n",
       "      <th>113</th>\n",
       "      <td>wow snap cnnmoney</td>\n",
       "      <td>1</td>\n",
       "    </tr>\n",
       "    <tr>\n",
       "      <th>6124</th>\n",
       "      <td>user yea lol catchy fret</td>\n",
       "      <td>3</td>\n",
       "    </tr>\n",
       "    <tr>\n",
       "      <th>5280</th>\n",
       "      <td>lord jesus want prison want free entice heart ...</td>\n",
       "      <td>1</td>\n",
       "    </tr>\n",
       "    <tr>\n",
       "      <th>29867</th>\n",
       "      <td>1st song day know better frank ocean normal sh...</td>\n",
       "      <td>2</td>\n",
       "    </tr>\n",
       "    <tr>\n",
       "      <th>17139</th>\n",
       "      <td>like electable leader labour party tony blair</td>\n",
       "      <td>2</td>\n",
       "    </tr>\n",
       "    <tr>\n",
       "      <th>932</th>\n",
       "      <td>moving clips youtube tonight vigil held tulsa ...</td>\n",
       "      <td>3</td>\n",
       "    </tr>\n",
       "    <tr>\n",
       "      <th>321</th>\n",
       "      <td>another joyful encounter tribez amp castlez me...</td>\n",
       "      <td>1</td>\n",
       "    </tr>\n",
       "    <tr>\n",
       "      <th>3120</th>\n",
       "      <td>season 3 penny dreadful netflix well afternoon...</td>\n",
       "      <td>1</td>\n",
       "    </tr>\n",
       "    <tr>\n",
       "      <th>5757</th>\n",
       "      <td>user 2 wait 48 hours call back cancel order pl...</td>\n",
       "      <td>3</td>\n",
       "    </tr>\n",
       "    <tr>\n",
       "      <th>5254</th>\n",
       "      <td>user extremely playful</td>\n",
       "      <td>1</td>\n",
       "    </tr>\n",
       "    <tr>\n",
       "      <th>1473</th>\n",
       "      <td>user whaaaat oh hell jealous got paid fuck who...</td>\n",
       "      <td>0</td>\n",
       "    </tr>\n",
       "    <tr>\n",
       "      <th>69</th>\n",
       "      <td>fucking tag pictures family first cut 5 years ...</td>\n",
       "      <td>0</td>\n",
       "    </tr>\n",
       "    <tr>\n",
       "      <th>2796</th>\n",
       "      <td>boys dm pictures cocks best one get uploaded c...</td>\n",
       "      <td>1</td>\n",
       "    </tr>\n",
       "    <tr>\n",
       "      <th>1425</th>\n",
       "      <td>world drives whoever assessed tenderhearted vu...</td>\n",
       "      <td>0</td>\n",
       "    </tr>\n",
       "    <tr>\n",
       "      <th>29767</th>\n",
       "      <td>monta ellis ellis provided five points 2 13 sh...</td>\n",
       "      <td>2</td>\n",
       "    </tr>\n",
       "    <tr>\n",
       "      <th>24671</th>\n",
       "      <td>thats david wright know 3rd bbase</td>\n",
       "      <td>2</td>\n",
       "    </tr>\n",
       "    <tr>\n",
       "      <th>1316</th>\n",
       "      <td>whisper cannot frown</td>\n",
       "      <td>0</td>\n",
       "    </tr>\n",
       "    <tr>\n",
       "      <th>24330</th>\n",
       "      <td>raiders vs buccaneers game coverage raiders ta...</td>\n",
       "      <td>2</td>\n",
       "    </tr>\n",
       "    <tr>\n",
       "      <th>238</th>\n",
       "      <td>wine drunk worst version ffs even remember see...</td>\n",
       "      <td>0</td>\n",
       "    </tr>\n",
       "    <tr>\n",
       "      <th>4218</th>\n",
       "      <td>thought got mad anything bf gets mad little th...</td>\n",
       "      <td>1</td>\n",
       "    </tr>\n",
       "    <tr>\n",
       "      <th>5005</th>\n",
       "      <td>user jovial forgiving negro always pressed upo...</td>\n",
       "      <td>1</td>\n",
       "    </tr>\n",
       "    <tr>\n",
       "      <th>2074</th>\n",
       "      <td>fun pizza night last night user crew gorgeous ...</td>\n",
       "      <td>1</td>\n",
       "    </tr>\n",
       "    <tr>\n",
       "      <th>4008</th>\n",
       "      <td>lively lovely shower</td>\n",
       "      <td>1</td>\n",
       "    </tr>\n",
       "    <tr>\n",
       "      <th>25103</th>\n",
       "      <td>movie good deeds may love tyler perry u2019s t...</td>\n",
       "      <td>2</td>\n",
       "    </tr>\n",
       "    <tr>\n",
       "      <th>11755</th>\n",
       "      <td>glo premier league star striker tunde adeniji ...</td>\n",
       "      <td>2</td>\n",
       "    </tr>\n",
       "    <tr>\n",
       "      <th>2367</th>\n",
       "      <td>nap day comfortable sleeping night never comfo...</td>\n",
       "      <td>3</td>\n",
       "    </tr>\n",
       "    <tr>\n",
       "      <th>1829</th>\n",
       "      <td>user spent 2 fucking hours still get dam siva ...</td>\n",
       "      <td>0</td>\n",
       "    </tr>\n",
       "    <tr>\n",
       "      <th>840</th>\n",
       "      <td>love new song stop thinking sting</td>\n",
       "      <td>0</td>\n",
       "    </tr>\n",
       "    <tr>\n",
       "      <th>22500</th>\n",
       "      <td>ok everyone thinks internationaldirectionerday...</td>\n",
       "      <td>2</td>\n",
       "    </tr>\n",
       "    <tr>\n",
       "      <th>811</th>\n",
       "      <td>someone keeps laughing fret least u r giving h...</td>\n",
       "      <td>0</td>\n",
       "    </tr>\n",
       "    <tr>\n",
       "      <th>281</th>\n",
       "      <td>15 doe run opposite side depression</td>\n",
       "      <td>3</td>\n",
       "    </tr>\n",
       "    <tr>\n",
       "      <th>4411</th>\n",
       "      <td>taking picture awkward smile nme picture day a...</td>\n",
       "      <td>1</td>\n",
       "    </tr>\n",
       "    <tr>\n",
       "      <th>7007</th>\n",
       "      <td>got serious hyper predator heckler situation</td>\n",
       "      <td>3</td>\n",
       "    </tr>\n",
       "    <tr>\n",
       "      <th>2873</th>\n",
       "      <td>people need look definition protest protesting...</td>\n",
       "      <td>0</td>\n",
       "    </tr>\n",
       "    <tr>\n",
       "      <th>21847</th>\n",
       "      <td>niall going 22 12 days one gonna 22 lock forev...</td>\n",
       "      <td>2</td>\n",
       "    </tr>\n",
       "    <tr>\n",
       "      <th>25813</th>\n",
       "      <td>list kick saturday night right ben sollee u st...</td>\n",
       "      <td>2</td>\n",
       "    </tr>\n",
       "    <tr>\n",
       "      <th>31968</th>\n",
       "      <td>liam inspiring moon sits sky liam inspiring su...</td>\n",
       "      <td>2</td>\n",
       "    </tr>\n",
       "    <tr>\n",
       "      <th>4176</th>\n",
       "      <td>man know juggle balls n funny pun lol punny</td>\n",
       "      <td>1</td>\n",
       "    </tr>\n",
       "    <tr>\n",
       "      <th>5720</th>\n",
       "      <td>mixed emotions sadness anxietymaybe missingfri...</td>\n",
       "      <td>3</td>\n",
       "    </tr>\n",
       "    <tr>\n",
       "      <th>1874</th>\n",
       "      <td>user scared ruffle feathers resorted writing c...</td>\n",
       "      <td>3</td>\n",
       "    </tr>\n",
       "    <tr>\n",
       "      <th>1172</th>\n",
       "      <td>user sparkles proud little huff still posing mind</td>\n",
       "      <td>0</td>\n",
       "    </tr>\n",
       "    <tr>\n",
       "      <th>909</th>\n",
       "      <td>stuck roof house provides amazing view sheer t...</td>\n",
       "      <td>1</td>\n",
       "    </tr>\n",
       "    <tr>\n",
       "      <th>4854</th>\n",
       "      <td>tired everybody telling chill everythings ok f...</td>\n",
       "      <td>1</td>\n",
       "    </tr>\n",
       "    <tr>\n",
       "      <th>6118</th>\n",
       "      <td>user practically obsessed thought departure ma...</td>\n",
       "      <td>3</td>\n",
       "    </tr>\n",
       "    <tr>\n",
       "      <th>23612</th>\n",
       "      <td>may two classes today think seeing foo fighter...</td>\n",
       "      <td>2</td>\n",
       "    </tr>\n",
       "    <tr>\n",
       "      <th>888</th>\n",
       "      <td>rage died</td>\n",
       "      <td>0</td>\n",
       "    </tr>\n",
       "    <tr>\n",
       "      <th>2499</th>\n",
       "      <td>user user user breakfast seen blew cereal sink</td>\n",
       "      <td>0</td>\n",
       "    </tr>\n",
       "    <tr>\n",
       "      <th>4124</th>\n",
       "      <td>watch amazing live ly broadcast user musically</td>\n",
       "      <td>1</td>\n",
       "    </tr>\n",
       "    <tr>\n",
       "      <th>14059</th>\n",
       "      <td>hisd u2019s chief financial officer retire dec...</td>\n",
       "      <td>2</td>\n",
       "    </tr>\n",
       "  </tbody>\n",
       "</table>\n",
       "</div>"
      ],
      "text/plain": [
       "                                                    text label\n",
       "1386   literally dying amp living time catch user twi...     1\n",
       "113                                    wow snap cnnmoney     1\n",
       "6124                            user yea lol catchy fret     3\n",
       "5280   lord jesus want prison want free entice heart ...     1\n",
       "29867  1st song day know better frank ocean normal sh...     2\n",
       "17139      like electable leader labour party tony blair     2\n",
       "932    moving clips youtube tonight vigil held tulsa ...     3\n",
       "321    another joyful encounter tribez amp castlez me...     1\n",
       "3120   season 3 penny dreadful netflix well afternoon...     1\n",
       "5757   user 2 wait 48 hours call back cancel order pl...     3\n",
       "5254                              user extremely playful     1\n",
       "1473   user whaaaat oh hell jealous got paid fuck who...     0\n",
       "69     fucking tag pictures family first cut 5 years ...     0\n",
       "2796   boys dm pictures cocks best one get uploaded c...     1\n",
       "1425   world drives whoever assessed tenderhearted vu...     0\n",
       "29767  monta ellis ellis provided five points 2 13 sh...     2\n",
       "24671                  thats david wright know 3rd bbase     2\n",
       "1316                                whisper cannot frown     0\n",
       "24330  raiders vs buccaneers game coverage raiders ta...     2\n",
       "238    wine drunk worst version ffs even remember see...     0\n",
       "4218   thought got mad anything bf gets mad little th...     1\n",
       "5005   user jovial forgiving negro always pressed upo...     1\n",
       "2074   fun pizza night last night user crew gorgeous ...     1\n",
       "4008                                lively lovely shower     1\n",
       "25103  movie good deeds may love tyler perry u2019s t...     2\n",
       "11755  glo premier league star striker tunde adeniji ...     2\n",
       "2367   nap day comfortable sleeping night never comfo...     3\n",
       "1829   user spent 2 fucking hours still get dam siva ...     0\n",
       "840                    love new song stop thinking sting     0\n",
       "22500  ok everyone thinks internationaldirectionerday...     2\n",
       "811    someone keeps laughing fret least u r giving h...     0\n",
       "281                  15 doe run opposite side depression     3\n",
       "4411   taking picture awkward smile nme picture day a...     1\n",
       "7007        got serious hyper predator heckler situation     3\n",
       "2873   people need look definition protest protesting...     0\n",
       "21847  niall going 22 12 days one gonna 22 lock forev...     2\n",
       "25813  list kick saturday night right ben sollee u st...     2\n",
       "31968  liam inspiring moon sits sky liam inspiring su...     2\n",
       "4176         man know juggle balls n funny pun lol punny     1\n",
       "5720   mixed emotions sadness anxietymaybe missingfri...     3\n",
       "1874   user scared ruffle feathers resorted writing c...     3\n",
       "1172   user sparkles proud little huff still posing mind     0\n",
       "909    stuck roof house provides amazing view sheer t...     1\n",
       "4854   tired everybody telling chill everythings ok f...     1\n",
       "6118   user practically obsessed thought departure ma...     3\n",
       "23612  may two classes today think seeing foo fighter...     2\n",
       "888                                            rage died     0\n",
       "2499      user user user breakfast seen blew cereal sink     0\n",
       "4124      watch amazing live ly broadcast user musically     1\n",
       "14059  hisd u2019s chief financial officer retire dec...     2"
      ]
     },
     "execution_count": 28,
     "metadata": {},
     "output_type": "execute_result"
    }
   ],
   "source": [
    "df.text = df.text.apply(lambda x: preprocess(x))\n",
    "df.tail(50)"
   ]
  },
  {
   "cell_type": "code",
   "execution_count": 29,
   "id": "8246358d",
   "metadata": {
    "execution": {
     "iopub.execute_input": "2022-03-18T20:36:23.697451Z",
     "iopub.status.busy": "2022-03-18T20:36:23.696570Z",
     "iopub.status.idle": "2022-03-18T20:36:23.700827Z",
     "shell.execute_reply": "2022-03-18T20:36:23.701712Z",
     "shell.execute_reply.started": "2022-03-18T20:13:23.439175Z"
    },
    "papermill": {
     "duration": 0.116429,
     "end_time": "2022-03-18T20:36:23.701973",
     "exception": false,
     "start_time": "2022-03-18T20:36:23.585544",
     "status": "completed"
    },
    "tags": []
   },
   "outputs": [
    {
     "name": "stdout",
     "output_type": "stream",
     "text": [
      "Sentiments shape :  (11152,)\n"
     ]
    }
   ],
   "source": [
    "print(\"Sentiments shape : \",df.label.shape)"
   ]
  },
  {
   "cell_type": "code",
   "execution_count": 30,
   "id": "32c3640c",
   "metadata": {
    "execution": {
     "iopub.execute_input": "2022-03-18T20:36:23.926128Z",
     "iopub.status.busy": "2022-03-18T20:36:23.924932Z",
     "iopub.status.idle": "2022-03-18T20:36:23.932935Z",
     "shell.execute_reply": "2022-03-18T20:36:23.933806Z",
     "shell.execute_reply.started": "2022-03-18T20:13:23.455589Z"
    },
    "papermill": {
     "duration": 0.124482,
     "end_time": "2022-03-18T20:36:23.934116",
     "exception": false,
     "start_time": "2022-03-18T20:36:23.809634",
     "status": "completed"
    },
    "tags": []
   },
   "outputs": [
    {
     "name": "stdout",
     "output_type": "stream",
     "text": [
      "Train Data size: 10036\n",
      "Test Data size 1116\n"
     ]
    }
   ],
   "source": [
    "train, test = train_test_split(df, test_size=0.1 ,random_state=47) \n",
    "print(\"Train Data size:\", len(train))\n",
    "print(\"Test Data size\", len(test))"
   ]
  },
  {
   "cell_type": "markdown",
   "id": "f9e3d57d",
   "metadata": {
    "papermill": {
     "duration": 0.105251,
     "end_time": "2022-03-18T20:36:24.147216",
     "exception": false,
     "start_time": "2022-03-18T20:36:24.041965",
     "status": "completed"
    },
    "tags": []
   },
   "source": [
    "From here ... I started seeking help choosing the best hyperparamters for my data ... this notebook helped me a lot!\n",
    "https://www.kaggle.com/code/paoloripamonti/twitter-sentiment-analysis"
   ]
  },
  {
   "cell_type": "markdown",
   "id": "314429c8",
   "metadata": {
    "papermill": {
     "duration": 0.104962,
     "end_time": "2022-03-18T20:36:24.357934",
     "exception": false,
     "start_time": "2022-03-18T20:36:24.252972",
     "status": "completed"
    },
    "tags": []
   },
   "source": [
    "Started turning my text data to 1D vector each tweet ...\n",
    "Let's setup parameters in one place"
   ]
  },
  {
   "cell_type": "code",
   "execution_count": 31,
   "id": "8838bd2e",
   "metadata": {
    "execution": {
     "iopub.execute_input": "2022-03-18T20:36:24.787341Z",
     "iopub.status.busy": "2022-03-18T20:36:24.784221Z",
     "iopub.status.idle": "2022-03-18T20:36:24.790899Z",
     "shell.execute_reply": "2022-03-18T20:36:24.791416Z",
     "shell.execute_reply.started": "2022-03-18T20:13:23.486128Z"
    },
    "papermill": {
     "duration": 0.328709,
     "end_time": "2022-03-18T20:36:24.791605",
     "exception": false,
     "start_time": "2022-03-18T20:36:24.462896",
     "status": "completed"
    },
    "tags": []
   },
   "outputs": [],
   "source": [
    "documents = [_text.split() for _text in train.text] \n",
    "W2V_SIZE = 100\n",
    "W2V_WINDOW = 7\n",
    "W2V_EPOCH =128\n",
    "W2V_MIN_COUNT = 10\n",
    "SEQUENCE_LENGTH = 100\n",
    "EPOCHS = 12\n",
    "BATCH_SIZE = 1024"
   ]
  },
  {
   "cell_type": "markdown",
   "id": "00aa9b1b",
   "metadata": {
    "papermill": {
     "duration": 0.119096,
     "end_time": "2022-03-18T20:36:25.015625",
     "exception": false,
     "start_time": "2022-03-18T20:36:24.896529",
     "status": "completed"
    },
    "tags": []
   },
   "source": [
    "This Github repository of Gensim also helped me a lot!\n",
    "https://github.com/RaRe-Technologies/gensim/wiki/Migrating-from-Gensim-3.x-to-4#7-methods-like-most_similar-wmdistance-doesnt_match-similarity--others-moved-to-keyedvectors"
   ]
  },
  {
   "cell_type": "code",
   "execution_count": 32,
   "id": "6de0eebd",
   "metadata": {
    "execution": {
     "iopub.execute_input": "2022-03-18T20:36:25.248776Z",
     "iopub.status.busy": "2022-03-18T20:36:25.247658Z",
     "iopub.status.idle": "2022-03-18T20:36:25.250171Z",
     "shell.execute_reply": "2022-03-18T20:36:25.250687Z",
     "shell.execute_reply.started": "2022-03-18T20:13:23.693874Z"
    },
    "papermill": {
     "duration": 0.115495,
     "end_time": "2022-03-18T20:36:25.250861",
     "exception": false,
     "start_time": "2022-03-18T20:36:25.135366",
     "status": "completed"
    },
    "tags": []
   },
   "outputs": [],
   "source": [
    "w2v_model = gensim.models.word2vec.Word2Vec(size=W2V_SIZE, \n",
    "                                            window=W2V_WINDOW, \n",
    "                                            min_count=W2V_MIN_COUNT, \n",
    "                                            workers=8)"
   ]
  },
  {
   "cell_type": "code",
   "execution_count": 33,
   "id": "598dca37",
   "metadata": {
    "execution": {
     "iopub.execute_input": "2022-03-18T20:36:25.500747Z",
     "iopub.status.busy": "2022-03-18T20:36:25.489217Z",
     "iopub.status.idle": "2022-03-18T20:36:26.136954Z",
     "shell.execute_reply": "2022-03-18T20:36:26.136359Z",
     "shell.execute_reply.started": "2022-03-18T20:13:23.735088Z"
    },
    "papermill": {
     "duration": 0.780516,
     "end_time": "2022-03-18T20:36:26.137138",
     "exception": false,
     "start_time": "2022-03-18T20:36:25.356622",
     "status": "completed"
    },
    "tags": []
   },
   "outputs": [],
   "source": [
    "w2v_model.build_vocab(documents)"
   ]
  },
  {
   "cell_type": "code",
   "execution_count": 34,
   "id": "a01748a1",
   "metadata": {
    "execution": {
     "iopub.execute_input": "2022-03-18T20:36:26.363753Z",
     "iopub.status.busy": "2022-03-18T20:36:26.362679Z",
     "iopub.status.idle": "2022-03-18T20:36:26.366518Z",
     "shell.execute_reply": "2022-03-18T20:36:26.367065Z",
     "shell.execute_reply.started": "2022-03-18T20:13:24.311411Z"
    },
    "papermill": {
     "duration": 0.123225,
     "end_time": "2022-03-18T20:36:26.367228",
     "exception": false,
     "start_time": "2022-03-18T20:36:26.244003",
     "status": "completed"
    },
    "tags": []
   },
   "outputs": [
    {
     "name": "stdout",
     "output_type": "stream",
     "text": [
      "Vocab size 1866\n"
     ]
    }
   ],
   "source": [
    "words = w2v_model.wv.vocab.keys()\n",
    "vocab_size = len(words)\n",
    "print(\"Vocab size\", vocab_size)"
   ]
  },
  {
   "cell_type": "code",
   "execution_count": 35,
   "id": "2e0b5143",
   "metadata": {
    "execution": {
     "iopub.execute_input": "2022-03-18T20:36:26.586051Z",
     "iopub.status.busy": "2022-03-18T20:36:26.584367Z",
     "iopub.status.idle": "2022-03-18T20:36:43.910337Z",
     "shell.execute_reply": "2022-03-18T20:36:43.910951Z",
     "shell.execute_reply.started": "2022-03-18T20:13:24.326375Z"
    },
    "papermill": {
     "duration": 17.437124,
     "end_time": "2022-03-18T20:36:43.911196",
     "exception": false,
     "start_time": "2022-03-18T20:36:26.474072",
     "status": "completed"
    },
    "tags": []
   },
   "outputs": [
    {
     "data": {
      "text/plain": [
       "(8666526, 14148224)"
      ]
     },
     "execution_count": 35,
     "metadata": {},
     "output_type": "execute_result"
    }
   ],
   "source": [
    "w2v_model.train(documents, total_examples=len(documents), epochs=W2V_EPOCH)"
   ]
  },
  {
   "cell_type": "code",
   "execution_count": 36,
   "id": "eb0909b2",
   "metadata": {
    "execution": {
     "iopub.execute_input": "2022-03-18T20:36:44.169004Z",
     "iopub.status.busy": "2022-03-18T20:36:44.168224Z",
     "iopub.status.idle": "2022-03-18T20:36:44.184617Z",
     "shell.execute_reply": "2022-03-18T20:36:44.185873Z",
     "shell.execute_reply.started": "2022-03-18T20:13:37.813459Z"
    },
    "papermill": {
     "duration": 0.150629,
     "end_time": "2022-03-18T20:36:44.186219",
     "exception": false,
     "start_time": "2022-03-18T20:36:44.035590",
     "status": "completed"
    },
    "tags": []
   },
   "outputs": [
    {
     "data": {
      "text/plain": [
       "[('miss', 0.36200612783432007),\n",
       " ('make', 0.3126246929168701),\n",
       " ('expensive', 0.2833516597747803),\n",
       " ('put', 0.28101852536201477),\n",
       " ('face', 0.2679109275341034),\n",
       " ('losing', 0.2648250460624695),\n",
       " ('good', 0.25606828927993774),\n",
       " ('meal', 0.2547922134399414),\n",
       " ('success', 0.24836105108261108),\n",
       " ('truly', 0.24554061889648438)]"
      ]
     },
     "execution_count": 36,
     "metadata": {},
     "output_type": "execute_result"
    }
   ],
   "source": [
    "w2v_model.wv.most_similar(\"love\")"
   ]
  },
  {
   "cell_type": "markdown",
   "id": "1bdcc458",
   "metadata": {
    "papermill": {
     "duration": 0.122441,
     "end_time": "2022-03-18T20:36:44.482143",
     "exception": false,
     "start_time": "2022-03-18T20:36:44.359702",
     "status": "completed"
    },
    "tags": []
   },
   "source": [
    "Looks like our word 2 vector model worked... Now let's tokenize our data to get output for each token"
   ]
  },
  {
   "cell_type": "code",
   "execution_count": 37,
   "id": "57653d31",
   "metadata": {
    "execution": {
     "iopub.execute_input": "2022-03-18T20:36:44.762006Z",
     "iopub.status.busy": "2022-03-18T20:36:44.751494Z",
     "iopub.status.idle": "2022-03-18T20:36:44.998108Z",
     "shell.execute_reply": "2022-03-18T20:36:44.999960Z",
     "shell.execute_reply.started": "2022-03-18T20:13:37.848474Z"
    },
    "papermill": {
     "duration": 0.395374,
     "end_time": "2022-03-18T20:36:45.000883",
     "exception": false,
     "start_time": "2022-03-18T20:36:44.605509",
     "status": "completed"
    },
    "tags": []
   },
   "outputs": [
    {
     "name": "stdout",
     "output_type": "stream",
     "text": [
      "Total words 17033\n"
     ]
    }
   ],
   "source": [
    "tokenizer = Tokenizer()\n",
    "tokenizer.fit_on_texts(train.text)\n",
    "vocab_size = len(tokenizer.word_index) + 1\n",
    "print(\"Total words\", vocab_size)"
   ]
  },
  {
   "cell_type": "markdown",
   "id": "30f9b0cd",
   "metadata": {
    "papermill": {
     "duration": 0.124868,
     "end_time": "2022-03-18T20:36:45.255779",
     "exception": false,
     "start_time": "2022-03-18T20:36:45.130911",
     "status": "completed"
    },
    "tags": []
   },
   "source": [
    "Now let's pad each tweet with a list of zeroes to make max sequence  = 100 "
   ]
  },
  {
   "cell_type": "code",
   "execution_count": 38,
   "id": "c2dbb7d3",
   "metadata": {
    "execution": {
     "iopub.execute_input": "2022-03-18T20:36:45.547431Z",
     "iopub.status.busy": "2022-03-18T20:36:45.546253Z",
     "iopub.status.idle": "2022-03-18T20:36:45.767630Z",
     "shell.execute_reply": "2022-03-18T20:36:45.768658Z",
     "shell.execute_reply.started": "2022-03-18T20:26:09.753362Z"
    },
    "papermill": {
     "duration": 0.383836,
     "end_time": "2022-03-18T20:36:45.768919",
     "exception": false,
     "start_time": "2022-03-18T20:36:45.385083",
     "status": "completed"
    },
    "tags": []
   },
   "outputs": [
    {
     "name": "stdout",
     "output_type": "stream",
     "text": [
      "Training X Shape: (10036, 100)\n",
      "Testing X Shape: (1116, 100)\n"
     ]
    }
   ],
   "source": [
    "x_train = pad_sequences(tokenizer.texts_to_sequences(train.text),\n",
    "                        maxlen = SEQUENCE_LENGTH )\n",
    "x_test = pad_sequences(tokenizer.texts_to_sequences(test.text),\n",
    "                       maxlen = SEQUENCE_LENGTH )\n",
    "\n",
    "print(\"Training X Shape:\",x_train.shape)\n",
    "print(\"Testing X Shape:\",x_test.shape)"
   ]
  },
  {
   "cell_type": "markdown",
   "id": "e1815e5a",
   "metadata": {
    "papermill": {
     "duration": 0.109537,
     "end_time": "2022-03-18T20:36:45.989019",
     "exception": false,
     "start_time": "2022-03-18T20:36:45.879482",
     "status": "completed"
    },
    "tags": []
   },
   "source": [
    "Now since we have only 4 categories so ... no problem for one hot encoding"
   ]
  },
  {
   "cell_type": "code",
   "execution_count": 39,
   "id": "c7640ed2",
   "metadata": {
    "execution": {
     "iopub.execute_input": "2022-03-18T20:36:46.215629Z",
     "iopub.status.busy": "2022-03-18T20:36:46.214150Z",
     "iopub.status.idle": "2022-03-18T20:36:46.218665Z",
     "shell.execute_reply": "2022-03-18T20:36:46.219236Z",
     "shell.execute_reply.started": "2022-03-18T20:26:03.061090Z"
    },
    "papermill": {
     "duration": 0.121536,
     "end_time": "2022-03-18T20:36:46.219431",
     "exception": false,
     "start_time": "2022-03-18T20:36:46.097895",
     "status": "completed"
    },
    "tags": []
   },
   "outputs": [
    {
     "name": "stdout",
     "output_type": "stream",
     "text": [
      "y_train (10036, 4)\n",
      "y_test (1116, 4)\n"
     ]
    }
   ],
   "source": [
    "from keras.utils.np_utils import to_categorical\n",
    "y_train = to_categorical(train.label, 4)\n",
    "y_test = to_categorical(test.label, 4)\n",
    "print(\"y_train\",y_train.shape)\n",
    "print(\"y_test\",y_test.shape)"
   ]
  },
  {
   "cell_type": "code",
   "execution_count": 40,
   "id": "62013a36",
   "metadata": {
    "execution": {
     "iopub.execute_input": "2022-03-18T20:36:46.448913Z",
     "iopub.status.busy": "2022-03-18T20:36:46.447583Z",
     "iopub.status.idle": "2022-03-18T20:36:46.453338Z",
     "shell.execute_reply": "2022-03-18T20:36:46.453837Z",
     "shell.execute_reply.started": "2022-03-18T20:13:38.323075Z"
    },
    "papermill": {
     "duration": 0.121827,
     "end_time": "2022-03-18T20:36:46.454047",
     "exception": false,
     "start_time": "2022-03-18T20:36:46.332220",
     "status": "completed"
    },
    "tags": []
   },
   "outputs": [
    {
     "name": "stdout",
     "output_type": "stream",
     "text": [
      "x_train (10036, 100)\n",
      "y_train (10036, 4)\n",
      "x_test (1116, 100)\n",
      "y_test (1116, 4)\n"
     ]
    }
   ],
   "source": [
    "print(\"x_train\", x_train.shape)\n",
    "print(\"y_train\", y_train.shape)\n",
    "print(\"x_test\", x_test.shape)\n",
    "print(\"y_test\", y_test.shape)"
   ]
  },
  {
   "cell_type": "code",
   "execution_count": 41,
   "id": "d27adea4",
   "metadata": {
    "execution": {
     "iopub.execute_input": "2022-03-18T20:36:46.681178Z",
     "iopub.status.busy": "2022-03-18T20:36:46.679687Z",
     "iopub.status.idle": "2022-03-18T20:36:46.701881Z",
     "shell.execute_reply": "2022-03-18T20:36:46.702682Z",
     "shell.execute_reply.started": "2022-03-18T20:13:38.337791Z"
    },
    "papermill": {
     "duration": 0.139331,
     "end_time": "2022-03-18T20:36:46.702884",
     "exception": false,
     "start_time": "2022-03-18T20:36:46.563553",
     "status": "completed"
    },
    "tags": []
   },
   "outputs": [
    {
     "name": "stdout",
     "output_type": "stream",
     "text": [
      "17033 100 1866\n",
      "(17033, 100)\n"
     ]
    }
   ],
   "source": [
    "print(vocab_size,W2V_SIZE,len(words))\n",
    "embedding_matrix = np.zeros((vocab_size, W2V_SIZE))\n",
    "for word, i in tokenizer.word_index.items():\n",
    "    if word in w2v_model.wv:\n",
    "        embedding_matrix[i] = w2v_model.wv[word]\n",
    "print(embedding_matrix.shape)"
   ]
  },
  {
   "cell_type": "markdown",
   "id": "524c057d",
   "metadata": {
    "papermill": {
     "duration": 0.108864,
     "end_time": "2022-03-18T20:36:46.920160",
     "exception": false,
     "start_time": "2022-03-18T20:36:46.811296",
     "status": "completed"
    },
    "tags": []
   },
   "source": [
    "Embedding layer enables us to convert each word into a fixed length vector of a certain size."
   ]
  },
  {
   "cell_type": "code",
   "execution_count": 42,
   "id": "ebf24b50",
   "metadata": {
    "execution": {
     "iopub.execute_input": "2022-03-18T20:36:47.146217Z",
     "iopub.status.busy": "2022-03-18T20:36:47.145404Z",
     "iopub.status.idle": "2022-03-18T20:36:47.172111Z",
     "shell.execute_reply": "2022-03-18T20:36:47.172633Z",
     "shell.execute_reply.started": "2022-03-18T20:13:38.375382Z"
    },
    "papermill": {
     "duration": 0.141634,
     "end_time": "2022-03-18T20:36:47.172830",
     "exception": false,
     "start_time": "2022-03-18T20:36:47.031196",
     "status": "completed"
    },
    "tags": []
   },
   "outputs": [],
   "source": [
    "embedding_layer = Embedding(vocab_size, W2V_SIZE, weights=[embedding_matrix], input_length=SEQUENCE_LENGTH, trainable=False)"
   ]
  },
  {
   "cell_type": "markdown",
   "id": "a1da21db",
   "metadata": {
    "papermill": {
     "duration": 0.1112,
     "end_time": "2022-03-18T20:36:47.396645",
     "exception": false,
     "start_time": "2022-03-18T20:36:47.285445",
     "status": "completed"
    },
    "tags": []
   },
   "source": [
    "Now ... network I actually found it online while searching for the best LSTM network for Sentiment Prediciton and here's what I got after tweaking it to be suitable with my case"
   ]
  },
  {
   "cell_type": "code",
   "execution_count": 43,
   "id": "776cd5f6",
   "metadata": {
    "execution": {
     "iopub.execute_input": "2022-03-18T20:36:47.631833Z",
     "iopub.status.busy": "2022-03-18T20:36:47.627846Z",
     "iopub.status.idle": "2022-03-18T20:36:51.245837Z",
     "shell.execute_reply": "2022-03-18T20:36:51.246633Z",
     "shell.execute_reply.started": "2022-03-18T20:13:38.422656Z"
    },
    "papermill": {
     "duration": 3.737243,
     "end_time": "2022-03-18T20:36:51.246912",
     "exception": false,
     "start_time": "2022-03-18T20:36:47.509669",
     "status": "completed"
    },
    "tags": []
   },
   "outputs": [
    {
     "name": "stderr",
     "output_type": "stream",
     "text": [
      "2022-03-18 20:36:47.695474: I tensorflow/stream_executor/cuda/cuda_gpu_executor.cc:937] successful NUMA node read from SysFS had negative value (-1), but there must be at least one NUMA node, so returning NUMA node zero\n",
      "2022-03-18 20:36:47.821357: I tensorflow/stream_executor/cuda/cuda_gpu_executor.cc:937] successful NUMA node read from SysFS had negative value (-1), but there must be at least one NUMA node, so returning NUMA node zero\n",
      "2022-03-18 20:36:47.822466: I tensorflow/stream_executor/cuda/cuda_gpu_executor.cc:937] successful NUMA node read from SysFS had negative value (-1), but there must be at least one NUMA node, so returning NUMA node zero\n",
      "2022-03-18 20:36:47.824090: I tensorflow/core/platform/cpu_feature_guard.cc:142] This TensorFlow binary is optimized with oneAPI Deep Neural Network Library (oneDNN) to use the following CPU instructions in performance-critical operations:  AVX2 FMA\n",
      "To enable them in other operations, rebuild TensorFlow with the appropriate compiler flags.\n",
      "2022-03-18 20:36:47.825273: I tensorflow/stream_executor/cuda/cuda_gpu_executor.cc:937] successful NUMA node read from SysFS had negative value (-1), but there must be at least one NUMA node, so returning NUMA node zero\n",
      "2022-03-18 20:36:47.826325: I tensorflow/stream_executor/cuda/cuda_gpu_executor.cc:937] successful NUMA node read from SysFS had negative value (-1), but there must be at least one NUMA node, so returning NUMA node zero\n",
      "2022-03-18 20:36:47.827333: I tensorflow/stream_executor/cuda/cuda_gpu_executor.cc:937] successful NUMA node read from SysFS had negative value (-1), but there must be at least one NUMA node, so returning NUMA node zero\n",
      "2022-03-18 20:36:50.177006: I tensorflow/stream_executor/cuda/cuda_gpu_executor.cc:937] successful NUMA node read from SysFS had negative value (-1), but there must be at least one NUMA node, so returning NUMA node zero\n",
      "2022-03-18 20:36:50.178131: I tensorflow/stream_executor/cuda/cuda_gpu_executor.cc:937] successful NUMA node read from SysFS had negative value (-1), but there must be at least one NUMA node, so returning NUMA node zero\n",
      "2022-03-18 20:36:50.179192: I tensorflow/stream_executor/cuda/cuda_gpu_executor.cc:937] successful NUMA node read from SysFS had negative value (-1), but there must be at least one NUMA node, so returning NUMA node zero\n",
      "2022-03-18 20:36:50.180149: I tensorflow/core/common_runtime/gpu/gpu_device.cc:1510] Created device /job:localhost/replica:0/task:0/device:GPU:0 with 15403 MB memory:  -> device: 0, name: Tesla P100-PCIE-16GB, pci bus id: 0000:00:04.0, compute capability: 6.0\n"
     ]
    }
   ],
   "source": [
    "sequence_input = Input(shape=(SEQUENCE_LENGTH), dtype='int32')\n",
    "embedding_sequences = embedding_layer(sequence_input)\n",
    "x = SpatialDropout1D(0.2)(embedding_sequences)\n",
    "x = Conv1D(64, 5, activation='relu')(x)\n",
    "x = Bidirectional(LSTM(64, dropout=0.2, recurrent_dropout=0.2))(x)\n",
    "x = Dense(512, activation='relu')(x)\n",
    "x = Dropout(0.5)(x)\n",
    "x = Dense(512, activation='relu')(x)\n",
    "outputs = Dense(4, activation='softmax')(x)\n",
    "model = tf.keras.Model(sequence_input, outputs)"
   ]
  },
  {
   "cell_type": "code",
   "execution_count": 44,
   "id": "2c91a699",
   "metadata": {
    "execution": {
     "iopub.execute_input": "2022-03-18T20:36:51.630171Z",
     "iopub.status.busy": "2022-03-18T20:36:51.629059Z",
     "iopub.status.idle": "2022-03-18T20:36:51.637666Z",
     "shell.execute_reply": "2022-03-18T20:36:51.638257Z",
     "shell.execute_reply.started": "2022-03-18T20:13:41.172647Z"
    },
    "papermill": {
     "duration": 0.203162,
     "end_time": "2022-03-18T20:36:51.638466",
     "exception": false,
     "start_time": "2022-03-18T20:36:51.435304",
     "status": "completed"
    },
    "tags": []
   },
   "outputs": [],
   "source": [
    "model.compile(loss='categorical_crossentropy',\n",
    "              optimizer=\"adam\",\n",
    "              metrics=['accuracy'])"
   ]
  },
  {
   "cell_type": "code",
   "execution_count": 45,
   "id": "9e0f775f",
   "metadata": {
    "execution": {
     "iopub.execute_input": "2022-03-18T20:36:51.914460Z",
     "iopub.status.busy": "2022-03-18T20:36:51.913276Z",
     "iopub.status.idle": "2022-03-18T20:36:51.916445Z",
     "shell.execute_reply": "2022-03-18T20:36:51.915659Z",
     "shell.execute_reply.started": "2022-03-18T20:13:41.196981Z"
    },
    "papermill": {
     "duration": 0.12347,
     "end_time": "2022-03-18T20:36:51.916609",
     "exception": false,
     "start_time": "2022-03-18T20:36:51.793139",
     "status": "completed"
    },
    "tags": []
   },
   "outputs": [],
   "source": [
    "callbacks = [ ReduceLROnPlateau(monitor='val_loss', patience=5, cooldown=0),\n",
    "              EarlyStopping(monitor='val_acc', min_delta=1e-4, patience=5)]"
   ]
  },
  {
   "cell_type": "markdown",
   "id": "3174de49",
   "metadata": {
    "papermill": {
     "duration": 0.119042,
     "end_time": "2022-03-18T20:36:52.159558",
     "exception": false,
     "start_time": "2022-03-18T20:36:52.040516",
     "status": "completed"
    },
    "tags": []
   },
   "source": [
    "Training Time"
   ]
  },
  {
   "cell_type": "code",
   "execution_count": 46,
   "id": "bbaa7d77",
   "metadata": {
    "execution": {
     "iopub.execute_input": "2022-03-18T20:36:52.389479Z",
     "iopub.status.busy": "2022-03-18T20:36:52.388273Z",
     "iopub.status.idle": "2022-03-18T20:40:20.197331Z",
     "shell.execute_reply": "2022-03-18T20:40:20.196566Z",
     "shell.execute_reply.started": "2022-03-18T20:13:41.223010Z"
    },
    "papermill": {
     "duration": 207.925388,
     "end_time": "2022-03-18T20:40:20.197498",
     "exception": false,
     "start_time": "2022-03-18T20:36:52.272110",
     "status": "completed"
    },
    "tags": []
   },
   "outputs": [
    {
     "name": "stderr",
     "output_type": "stream",
     "text": [
      "2022-03-18 20:36:52.445391: I tensorflow/compiler/mlir/mlir_graph_optimization_pass.cc:185] None of the MLIR Optimization Passes are enabled (registered 2)\n"
     ]
    },
    {
     "name": "stdout",
     "output_type": "stream",
     "text": [
      "Epoch 1/12\n"
     ]
    },
    {
     "name": "stderr",
     "output_type": "stream",
     "text": [
      "2022-03-18 20:36:59.334899: I tensorflow/stream_executor/cuda/cuda_dnn.cc:369] Loaded cuDNN version 8005\n"
     ]
    },
    {
     "name": "stdout",
     "output_type": "stream",
     "text": [
      "9/9 [==============================] - 24s 1s/step - loss: 1.2856 - accuracy: 0.4143 - val_loss: 1.0663 - val_accuracy: 0.5239\n",
      "Epoch 2/12\n",
      "9/9 [==============================] - 12s 1s/step - loss: 1.0373 - accuracy: 0.5414 - val_loss: 0.9156 - val_accuracy: 0.6096\n",
      "Epoch 3/12\n",
      "9/9 [==============================] - 11s 1s/step - loss: 0.9059 - accuracy: 0.6143 - val_loss: 0.8223 - val_accuracy: 0.6584\n",
      "Epoch 4/12\n",
      "9/9 [==============================] - 11s 1s/step - loss: 0.8385 - accuracy: 0.6561 - val_loss: 0.7876 - val_accuracy: 0.6853\n",
      "Epoch 5/12\n",
      "9/9 [==============================] - 12s 1s/step - loss: 0.7861 - accuracy: 0.6767 - val_loss: 0.7545 - val_accuracy: 0.6922\n",
      "Epoch 6/12\n",
      "9/9 [==============================] - 11s 1s/step - loss: 0.7415 - accuracy: 0.7005 - val_loss: 0.7274 - val_accuracy: 0.7032\n",
      "Epoch 7/12\n",
      "9/9 [==============================] - 11s 1s/step - loss: 0.7077 - accuracy: 0.7147 - val_loss: 0.7022 - val_accuracy: 0.7131\n",
      "Epoch 8/12\n",
      "9/9 [==============================] - 12s 1s/step - loss: 0.6809 - accuracy: 0.7291 - val_loss: 0.6817 - val_accuracy: 0.7241\n",
      "Epoch 9/12\n",
      "9/9 [==============================] - 11s 1s/step - loss: 0.6505 - accuracy: 0.7427 - val_loss: 0.6737 - val_accuracy: 0.7311\n",
      "Epoch 10/12\n",
      "9/9 [==============================] - 11s 1s/step - loss: 0.6215 - accuracy: 0.7539 - val_loss: 0.6630 - val_accuracy: 0.7400\n",
      "Epoch 11/12\n",
      "9/9 [==============================] - 12s 1s/step - loss: 0.5860 - accuracy: 0.7698 - val_loss: 0.6390 - val_accuracy: 0.7490\n",
      "Epoch 12/12\n",
      "9/9 [==============================] - 11s 1s/step - loss: 0.5676 - accuracy: 0.7777 - val_loss: 0.6296 - val_accuracy: 0.7510\n"
     ]
    }
   ],
   "source": [
    "history = model.fit(x_train, y_train,\n",
    "                    batch_size=BATCH_SIZE,\n",
    "                    epochs=EPOCHS,\n",
    "                    validation_split=0.1,\n",
    "                    verbose=1,\n",
    "                    callbacks=callbacks)"
   ]
  },
  {
   "cell_type": "code",
   "execution_count": 47,
   "id": "36ca2cd4",
   "metadata": {
    "execution": {
     "iopub.execute_input": "2022-03-18T20:40:20.541393Z",
     "iopub.status.busy": "2022-03-18T20:40:20.540304Z",
     "iopub.status.idle": "2022-03-18T20:40:20.761259Z",
     "shell.execute_reply": "2022-03-18T20:40:20.762112Z",
     "shell.execute_reply.started": "2022-03-18T20:26:20.248923Z"
    },
    "papermill": {
     "duration": 0.396299,
     "end_time": "2022-03-18T20:40:20.762374",
     "exception": false,
     "start_time": "2022-03-18T20:40:20.366075",
     "status": "completed"
    },
    "tags": []
   },
   "outputs": [
    {
     "name": "stdout",
     "output_type": "stream",
     "text": [
      "2/2 [==============================] - 0s 95ms/step - loss: 0.5828 - accuracy: 0.7670\n",
      "\n",
      "ACCURACY: 0.7670251131057739\n",
      "LOSS: 0.5828273892402649\n"
     ]
    }
   ],
   "source": [
    "score = model.evaluate(x_test, y_test, batch_size=BATCH_SIZE)\n",
    "print()\n",
    "print(\"ACCURACY:\",score[1])\n",
    "print(\"LOSS:\",score[0])"
   ]
  },
  {
   "cell_type": "code",
   "execution_count": 48,
   "id": "1c7df50b",
   "metadata": {
    "execution": {
     "iopub.execute_input": "2022-03-18T20:40:21.138661Z",
     "iopub.status.busy": "2022-03-18T20:40:21.137112Z",
     "iopub.status.idle": "2022-03-18T20:40:21.608129Z",
     "shell.execute_reply": "2022-03-18T20:40:21.607466Z",
     "shell.execute_reply.started": "2022-03-18T20:16:07.318687Z"
    },
    "papermill": {
     "duration": 0.674742,
     "end_time": "2022-03-18T20:40:21.608287",
     "exception": false,
     "start_time": "2022-03-18T20:40:20.933545",
     "status": "completed"
    },
    "tags": []
   },
   "outputs": [
    {
     "data": {
      "image/png": "[encoded data removed]",
      "text/plain": [
       "<Figure size 432x288 with 1 Axes>"
      ]
     },
     "metadata": {
      "needs_background": "light"
     },
     "output_type": "display_data"
    },
    {
     "data": {
      "image/png": "[encoded data removed]",
      "text/plain": [
       "<Figure size 432x288 with 1 Axes>"
      ]
     },
     "metadata": {
      "needs_background": "light"
     },
     "output_type": "display_data"
    }
   ],
   "source": [
    "acc = history.history['accuracy']\n",
    "val_acc = history.history['val_accuracy']\n",
    "loss = history.history['loss']\n",
    "val_loss = history.history['val_loss']\n",
    " \n",
    "epochs = range(len(acc))\n",
    " \n",
    "plt.plot(epochs, acc, 'b', label='Training acc')\n",
    "plt.plot(epochs, val_acc, 'r', label='Validation acc')\n",
    "plt.title('Training and validation accuracy')\n",
    "plt.legend()\n",
    " \n",
    "plt.figure()\n",
    " \n",
    "plt.plot(epochs, loss, 'b', label='Training loss')\n",
    "plt.plot(epochs, val_loss, 'r', label='Validation loss')\n",
    "plt.title('Training and validation loss')\n",
    "plt.legend()\n",
    " \n",
    "plt.show()"
   ]
  },
  {
   "cell_type": "code",
   "execution_count": 49,
   "id": "fa81e693",
   "metadata": {
    "execution": {
     "iopub.execute_input": "2022-03-18T20:40:21.948514Z",
     "iopub.status.busy": "2022-03-18T20:40:21.947536Z",
     "iopub.status.idle": "2022-03-18T20:40:34.042054Z",
     "shell.execute_reply": "2022-03-18T20:40:34.041391Z",
     "shell.execute_reply.started": "2022-03-18T20:34:41.844047Z"
    },
    "papermill": {
     "duration": 12.26789,
     "end_time": "2022-03-18T20:40:34.042288",
     "exception": false,
     "start_time": "2022-03-18T20:40:21.774398",
     "status": "completed"
    },
    "tags": []
   },
   "outputs": [
    {
     "name": "stderr",
     "output_type": "stream",
     "text": [
      "2022-03-18 20:40:26.160607: W tensorflow/python/util/util.cc:348] Sets are not currently considered sequences, but this may change in the future, so consider avoiding using them.\n"
     ]
    }
   ],
   "source": [
    "model.save(\"Sentiment Analysis v2\")\n",
    "w2v_model.save(\"WORD2VEC_Sentiment Analysis V2\")"
   ]
  },
  {
   "cell_type": "markdown",
   "id": "8b06686b",
   "metadata": {
    "papermill": {
     "duration": 0.176689,
     "end_time": "2022-03-18T20:40:34.393646",
     "exception": false,
     "start_time": "2022-03-18T20:40:34.216957",
     "status": "completed"
    },
    "tags": []
   },
   "source": [
    "That's it for now ... I've learned a lot through this challenge. I hope you admire my work. Thanks!"
   ]
  }
 ],
 "metadata": {
  "kernelspec": {
   "display_name": "Python 3",
   "language": "python",
   "name": "python3"
  },
  "language_info": {
   "codemirror_mode": {
    "name": "ipython",
    "version": 3
   },
   "file_extension": ".py",
   "mimetype": "text/x-python",
   "name": "python",
   "nbconvert_exporter": "python",
   "pygments_lexer": "ipython3",
   "version": "3.7.12"
  },
  "papermill": {
   "default_parameters": {},
   "duration": 300.145836,
   "end_time": "2022-03-18T20:40:37.280920",
   "environment_variables": {},
   "exception": null,
   "input_path": "__notebook__.ipynb",
   "output_path": "__notebook__.ipynb",
   "parameters": {},
   "start_time": "2022-03-18T20:35:37.135084",
   "version": "2.3.3"
  }
 },
 "nbformat": 4,
 "nbformat_minor": 5
}
